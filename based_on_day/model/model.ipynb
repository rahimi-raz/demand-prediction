{
 "cells": [
  {
   "cell_type": "markdown",
   "metadata": {
    "id": "KcBNv2YLohK9",
    "pycharm": {
     "name": "#%% md\n"
    }
   },
   "source": [
    "# imports"
   ]
  },
  {
   "cell_type": "code",
   "execution_count": 1,
   "metadata": {
    "id": "YyX5k-wBqY14",
    "pycharm": {
     "name": "#%%\n"
    }
   },
   "outputs": [],
   "source": [
    "import numpy as np\n",
    "import pandas as pd\n",
    "import warnings\n",
    "\n",
    "from sklearn.model_selection import GridSearchCV\n",
    "from sklearn.linear_model import LinearRegression\n",
    "from sklearn.metrics import mean_absolute_percentage_error\n",
    "from sklearn.metrics import mean_absolute_error\n",
    "from sklearn.metrics import mean_squared_error\n",
    "from sklearn.model_selection import train_test_split\n",
    "from xgboost import XGBRegressor\n",
    "\n",
    "warnings.simplefilter('ignore')"
   ]
  },
  {
   "cell_type": "markdown",
   "metadata": {
    "id": "qwqNfi6NQV_v",
    "pycharm": {
     "name": "#%% md\n"
    }
   },
   "source": [
    "# Config"
   ]
  },
  {
   "cell_type": "code",
   "execution_count": 2,
   "metadata": {
    "id": "VyDYzlYcQU2M",
    "pycharm": {
     "name": "#%%\n"
    }
   },
   "outputs": [],
   "source": [
    "BASE_PATH = \"D:/projects/rahnamcollege-ml/demand-prediction/\"\n",
    "\n",
    "LABELED_DATA_PATH = BASE_PATH + 'data/label/label.parquet'\n",
    "FEATURE_DATAFRAME_PATH = BASE_PATH + 'data/output/features.parquet'\n",
    "START_DATE = '2023-01-09'\n",
    "TEST_DATE = '2023-04-01'\n",
    "LAST_DATE = '2023-05-01'\n",
    "FEATURE_LIST = [\n",
    "    'PU_day_of_week',\n",
    "    'last_day_demand',\n",
    "    'last_week_demand',\n",
    "    'lag1-8',\n",
    "    'lag2-9',\n",
    "    'lag3-10',\n",
    "    'lag4-11',\n",
    "    'arima'\n",
    "]\n",
    "TARGET = 'label'\n",
    "VALIDATION_SPLIT_RATIO = 0.2\n",
    "LR_OUTPUT_PATH = BASE_PATH + 'data/output/lr_model_daily_result.parquet'\n",
    "XGB_OUTPUT_PATH = BASE_PATH + 'data/output/xgboost_model_daily_results.parquet'"
   ]
  },
  {
   "cell_type": "markdown",
   "metadata": {
    "id": "StaYCoWf96ac",
    "pycharm": {
     "name": "#%% md\n"
    }
   },
   "source": [
    "# Load Data"
   ]
  },
  {
   "cell_type": "code",
   "execution_count": 3,
   "metadata": {
    "colab": {
     "base_uri": "https://localhost:8080/",
     "height": 370
    },
    "id": "yjVGfzNR-Eig",
    "outputId": "7342458b-3495-4250-9d62-bb0607b588f6",
    "pycharm": {
     "name": "#%%\n"
    }
   },
   "outputs": [
    {
     "name": "stdout",
     "output_type": "stream",
     "text": [
      "(31964, 3)\n"
     ]
    },
    {
     "data": {
      "text/html": [
       "<div>\n",
       "<style scoped>\n",
       "    .dataframe tbody tr th:only-of-type {\n",
       "        vertical-align: middle;\n",
       "    }\n",
       "\n",
       "    .dataframe tbody tr th {\n",
       "        vertical-align: top;\n",
       "    }\n",
       "\n",
       "    .dataframe thead th {\n",
       "        text-align: right;\n",
       "    }\n",
       "</style>\n",
       "<table border=\"1\" class=\"dataframe\">\n",
       "  <thead>\n",
       "    <tr style=\"text-align: right;\">\n",
       "      <th></th>\n",
       "      <th>date</th>\n",
       "      <th>PULocationID</th>\n",
       "      <th>count</th>\n",
       "    </tr>\n",
       "  </thead>\n",
       "  <tbody>\n",
       "    <tr>\n",
       "      <th>96</th>\n",
       "      <td>2023-01-02</td>\n",
       "      <td>1</td>\n",
       "      <td>32.0</td>\n",
       "    </tr>\n",
       "    <tr>\n",
       "      <th>358</th>\n",
       "      <td>2023-01-03</td>\n",
       "      <td>1</td>\n",
       "      <td>28.0</td>\n",
       "    </tr>\n",
       "    <tr>\n",
       "      <th>620</th>\n",
       "      <td>2023-01-04</td>\n",
       "      <td>1</td>\n",
       "      <td>8.0</td>\n",
       "    </tr>\n",
       "    <tr>\n",
       "      <th>882</th>\n",
       "      <td>2023-01-05</td>\n",
       "      <td>1</td>\n",
       "      <td>16.0</td>\n",
       "    </tr>\n",
       "    <tr>\n",
       "      <th>1144</th>\n",
       "      <td>2023-01-06</td>\n",
       "      <td>1</td>\n",
       "      <td>12.0</td>\n",
       "    </tr>\n",
       "  </tbody>\n",
       "</table>\n",
       "</div>"
      ],
      "text/plain": [
       "            date  PULocationID  count\n",
       "96    2023-01-02             1   32.0\n",
       "358   2023-01-03             1   28.0\n",
       "620   2023-01-04             1    8.0\n",
       "882   2023-01-05             1   16.0\n",
       "1144  2023-01-06             1   12.0"
      ]
     },
     "execution_count": 3,
     "metadata": {},
     "output_type": "execute_result"
    }
   ],
   "source": [
    "def load_labeled_data(path):\n",
    "    return pd.read_parquet(path)\n",
    "\n",
    "\n",
    "label_df = load_labeled_data(LABELED_DATA_PATH)\n",
    "print(label_df.shape)\n",
    "label_df.head()"
   ]
  },
  {
   "cell_type": "markdown",
   "metadata": {
    "id": "_y2dkjlCCnsh",
    "pycharm": {
     "name": "#%% md\n"
    }
   },
   "source": [
    "## adding calender features"
   ]
  },
  {
   "cell_type": "code",
   "execution_count": 4,
   "metadata": {
    "colab": {
     "base_uri": "https://localhost:8080/",
     "height": 221
    },
    "id": "EMPPqhClCrur",
    "outputId": "8e2955e4-ed46-4022-fba7-8c820ee70f0d",
    "pycharm": {
     "name": "#%%\n"
    }
   },
   "outputs": [
    {
     "name": "stdout",
     "output_type": "stream",
     "text": [
      "(28296, 13)\n"
     ]
    },
    {
     "data": {
      "text/html": [
       "<div>\n",
       "<style scoped>\n",
       "    .dataframe tbody tr th:only-of-type {\n",
       "        vertical-align: middle;\n",
       "    }\n",
       "\n",
       "    .dataframe tbody tr th {\n",
       "        vertical-align: top;\n",
       "    }\n",
       "\n",
       "    .dataframe thead th {\n",
       "        text-align: right;\n",
       "    }\n",
       "</style>\n",
       "<table border=\"1\" class=\"dataframe\">\n",
       "  <thead>\n",
       "    <tr style=\"text-align: right;\">\n",
       "      <th></th>\n",
       "      <th>date</th>\n",
       "      <th>PULocationID</th>\n",
       "      <th>arima</th>\n",
       "      <th>PU_day_of_month</th>\n",
       "      <th>week_of_month</th>\n",
       "      <th>PU_day_of_week</th>\n",
       "      <th>last_day_demand</th>\n",
       "      <th>last_week_demand</th>\n",
       "      <th>lag1-8</th>\n",
       "      <th>lag2-9</th>\n",
       "      <th>lag3-10</th>\n",
       "      <th>lag4-11</th>\n",
       "      <th>label</th>\n",
       "    </tr>\n",
       "  </thead>\n",
       "  <tbody>\n",
       "    <tr>\n",
       "      <th>11</th>\n",
       "      <td>2023-01-13</td>\n",
       "      <td>1</td>\n",
       "      <td>0.916667</td>\n",
       "      <td>13</td>\n",
       "      <td>2</td>\n",
       "      <td>4</td>\n",
       "      <td>9.0</td>\n",
       "      <td>12.0</td>\n",
       "      <td>0.562500</td>\n",
       "      <td>1.250000</td>\n",
       "      <td>0.178571</td>\n",
       "      <td>0.468750</td>\n",
       "      <td>1.833333</td>\n",
       "    </tr>\n",
       "    <tr>\n",
       "      <th>12</th>\n",
       "      <td>2023-01-14</td>\n",
       "      <td>1</td>\n",
       "      <td>2.142857</td>\n",
       "      <td>14</td>\n",
       "      <td>2</td>\n",
       "      <td>5</td>\n",
       "      <td>22.0</td>\n",
       "      <td>7.0</td>\n",
       "      <td>1.833333</td>\n",
       "      <td>0.562500</td>\n",
       "      <td>1.250000</td>\n",
       "      <td>0.178571</td>\n",
       "      <td>1.142857</td>\n",
       "    </tr>\n",
       "    <tr>\n",
       "      <th>13</th>\n",
       "      <td>2023-01-15</td>\n",
       "      <td>1</td>\n",
       "      <td>0.846154</td>\n",
       "      <td>15</td>\n",
       "      <td>3</td>\n",
       "      <td>6</td>\n",
       "      <td>8.0</td>\n",
       "      <td>13.0</td>\n",
       "      <td>1.142857</td>\n",
       "      <td>1.833333</td>\n",
       "      <td>0.562500</td>\n",
       "      <td>1.250000</td>\n",
       "      <td>1.538462</td>\n",
       "    </tr>\n",
       "    <tr>\n",
       "      <th>14</th>\n",
       "      <td>2023-01-16</td>\n",
       "      <td>1</td>\n",
       "      <td>1.000000</td>\n",
       "      <td>16</td>\n",
       "      <td>3</td>\n",
       "      <td>0</td>\n",
       "      <td>20.0</td>\n",
       "      <td>15.0</td>\n",
       "      <td>1.538462</td>\n",
       "      <td>1.142857</td>\n",
       "      <td>1.833333</td>\n",
       "      <td>0.562500</td>\n",
       "      <td>1.466667</td>\n",
       "    </tr>\n",
       "    <tr>\n",
       "      <th>15</th>\n",
       "      <td>2023-01-17</td>\n",
       "      <td>1</td>\n",
       "      <td>3.000000</td>\n",
       "      <td>17</td>\n",
       "      <td>3</td>\n",
       "      <td>1</td>\n",
       "      <td>22.0</td>\n",
       "      <td>5.0</td>\n",
       "      <td>1.466667</td>\n",
       "      <td>1.538462</td>\n",
       "      <td>1.142857</td>\n",
       "      <td>1.833333</td>\n",
       "      <td>3.800000</td>\n",
       "    </tr>\n",
       "  </tbody>\n",
       "</table>\n",
       "</div>"
      ],
      "text/plain": [
       "         date  PULocationID     arima  PU_day_of_month  week_of_month  \\\n",
       "11 2023-01-13             1  0.916667               13              2   \n",
       "12 2023-01-14             1  2.142857               14              2   \n",
       "13 2023-01-15             1  0.846154               15              3   \n",
       "14 2023-01-16             1  1.000000               16              3   \n",
       "15 2023-01-17             1  3.000000               17              3   \n",
       "\n",
       "    PU_day_of_week  last_day_demand  last_week_demand    lag1-8    lag2-9  \\\n",
       "11               4              9.0              12.0  0.562500  1.250000   \n",
       "12               5             22.0               7.0  1.833333  0.562500   \n",
       "13               6              8.0              13.0  1.142857  1.833333   \n",
       "14               0             20.0              15.0  1.538462  1.142857   \n",
       "15               1             22.0               5.0  1.466667  1.538462   \n",
       "\n",
       "     lag3-10   lag4-11     label  \n",
       "11  0.178571  0.468750  1.833333  \n",
       "12  1.250000  0.178571  1.142857  \n",
       "13  0.562500  1.250000  1.538462  \n",
       "14  1.833333  0.562500  1.466667  \n",
       "15  1.142857  1.833333  3.800000  "
      ]
     },
     "execution_count": 4,
     "metadata": {},
     "output_type": "execute_result"
    }
   ],
   "source": [
    "def load_features(path):\n",
    "    return pd.read_parquet(path)\n",
    "\n",
    "\n",
    "feature_df = load_features(FEATURE_DATAFRAME_PATH)\n",
    "print(feature_df.shape)\n",
    "feature_df.head()"
   ]
  },
  {
   "cell_type": "markdown",
   "metadata": {
    "pycharm": {
     "name": "#%% md\n"
    }
   },
   "source": [
    "### merge features and label"
   ]
  },
  {
   "cell_type": "code",
   "execution_count": 5,
   "metadata": {
    "pycharm": {
     "name": "#%%\n"
    }
   },
   "outputs": [
    {
     "data": {
      "text/html": [
       "<div>\n",
       "<style scoped>\n",
       "    .dataframe tbody tr th:only-of-type {\n",
       "        vertical-align: middle;\n",
       "    }\n",
       "\n",
       "    .dataframe tbody tr th {\n",
       "        vertical-align: top;\n",
       "    }\n",
       "\n",
       "    .dataframe thead th {\n",
       "        text-align: right;\n",
       "    }\n",
       "</style>\n",
       "<table border=\"1\" class=\"dataframe\">\n",
       "  <thead>\n",
       "    <tr style=\"text-align: right;\">\n",
       "      <th></th>\n",
       "      <th>date</th>\n",
       "      <th>PULocationID</th>\n",
       "      <th>count</th>\n",
       "      <th>arima</th>\n",
       "      <th>PU_day_of_month</th>\n",
       "      <th>week_of_month</th>\n",
       "      <th>PU_day_of_week</th>\n",
       "      <th>last_day_demand</th>\n",
       "      <th>last_week_demand</th>\n",
       "      <th>lag1-8</th>\n",
       "      <th>lag2-9</th>\n",
       "      <th>lag3-10</th>\n",
       "      <th>lag4-11</th>\n",
       "      <th>label</th>\n",
       "    </tr>\n",
       "  </thead>\n",
       "  <tbody>\n",
       "    <tr>\n",
       "      <th>0</th>\n",
       "      <td>2023-01-13</td>\n",
       "      <td>1</td>\n",
       "      <td>22.0</td>\n",
       "      <td>0.916667</td>\n",
       "      <td>13</td>\n",
       "      <td>2</td>\n",
       "      <td>4</td>\n",
       "      <td>9.0</td>\n",
       "      <td>12.0</td>\n",
       "      <td>0.562500</td>\n",
       "      <td>1.250000</td>\n",
       "      <td>0.178571</td>\n",
       "      <td>0.468750</td>\n",
       "      <td>1.833333</td>\n",
       "    </tr>\n",
       "    <tr>\n",
       "      <th>1</th>\n",
       "      <td>2023-01-14</td>\n",
       "      <td>1</td>\n",
       "      <td>8.0</td>\n",
       "      <td>2.142857</td>\n",
       "      <td>14</td>\n",
       "      <td>2</td>\n",
       "      <td>5</td>\n",
       "      <td>22.0</td>\n",
       "      <td>7.0</td>\n",
       "      <td>1.833333</td>\n",
       "      <td>0.562500</td>\n",
       "      <td>1.250000</td>\n",
       "      <td>0.178571</td>\n",
       "      <td>1.142857</td>\n",
       "    </tr>\n",
       "    <tr>\n",
       "      <th>2</th>\n",
       "      <td>2023-01-15</td>\n",
       "      <td>1</td>\n",
       "      <td>20.0</td>\n",
       "      <td>0.846154</td>\n",
       "      <td>15</td>\n",
       "      <td>3</td>\n",
       "      <td>6</td>\n",
       "      <td>8.0</td>\n",
       "      <td>13.0</td>\n",
       "      <td>1.142857</td>\n",
       "      <td>1.833333</td>\n",
       "      <td>0.562500</td>\n",
       "      <td>1.250000</td>\n",
       "      <td>1.538462</td>\n",
       "    </tr>\n",
       "    <tr>\n",
       "      <th>3</th>\n",
       "      <td>2023-01-16</td>\n",
       "      <td>1</td>\n",
       "      <td>22.0</td>\n",
       "      <td>1.000000</td>\n",
       "      <td>16</td>\n",
       "      <td>3</td>\n",
       "      <td>0</td>\n",
       "      <td>20.0</td>\n",
       "      <td>15.0</td>\n",
       "      <td>1.538462</td>\n",
       "      <td>1.142857</td>\n",
       "      <td>1.833333</td>\n",
       "      <td>0.562500</td>\n",
       "      <td>1.466667</td>\n",
       "    </tr>\n",
       "    <tr>\n",
       "      <th>4</th>\n",
       "      <td>2023-01-17</td>\n",
       "      <td>1</td>\n",
       "      <td>19.0</td>\n",
       "      <td>3.000000</td>\n",
       "      <td>17</td>\n",
       "      <td>3</td>\n",
       "      <td>1</td>\n",
       "      <td>22.0</td>\n",
       "      <td>5.0</td>\n",
       "      <td>1.466667</td>\n",
       "      <td>1.538462</td>\n",
       "      <td>1.142857</td>\n",
       "      <td>1.833333</td>\n",
       "      <td>3.800000</td>\n",
       "    </tr>\n",
       "  </tbody>\n",
       "</table>\n",
       "</div>"
      ],
      "text/plain": [
       "         date  PULocationID  count     arima  PU_day_of_month  week_of_month  \\\n",
       "0  2023-01-13             1   22.0  0.916667               13              2   \n",
       "1  2023-01-14             1    8.0  2.142857               14              2   \n",
       "2  2023-01-15             1   20.0  0.846154               15              3   \n",
       "3  2023-01-16             1   22.0  1.000000               16              3   \n",
       "4  2023-01-17             1   19.0  3.000000               17              3   \n",
       "\n",
       "   PU_day_of_week  last_day_demand  last_week_demand    lag1-8    lag2-9  \\\n",
       "0               4              9.0              12.0  0.562500  1.250000   \n",
       "1               5             22.0               7.0  1.833333  0.562500   \n",
       "2               6              8.0              13.0  1.142857  1.833333   \n",
       "3               0             20.0              15.0  1.538462  1.142857   \n",
       "4               1             22.0               5.0  1.466667  1.538462   \n",
       "\n",
       "    lag3-10   lag4-11     label  \n",
       "0  0.178571  0.468750  1.833333  \n",
       "1  1.250000  0.178571  1.142857  \n",
       "2  0.562500  1.250000  1.538462  \n",
       "3  1.833333  0.562500  1.466667  \n",
       "4  1.142857  1.833333  3.800000  "
      ]
     },
     "execution_count": 5,
     "metadata": {},
     "output_type": "execute_result"
    }
   ],
   "source": [
    "label_df['date'] = label_df['date'].astype(str)\n",
    "feature_df['date'] = feature_df['date'].astype(str)\n",
    "\n",
    "rides_df = pd.merge(label_df, feature_df, on=['date', 'PULocationID'])\n",
    "rides_df.head()"
   ]
  },
  {
   "cell_type": "markdown",
   "metadata": {
    "id": "kLcpL5VlHrXw",
    "pycharm": {
     "name": "#%% md\n"
    }
   },
   "source": [
    "## checking one week of data as a sample"
   ]
  },
  {
   "cell_type": "code",
   "execution_count": 6,
   "metadata": {
    "colab": {
     "base_uri": "https://localhost:8080/",
     "height": 297
    },
    "id": "dSVH2ROjH_Hs",
    "outputId": "fe254df8-7825-4430-9a46-50fba5d9f999",
    "pycharm": {
     "name": "#%%\n"
    }
   },
   "outputs": [
    {
     "data": {
      "text/html": [
       "<div>\n",
       "<style scoped>\n",
       "    .dataframe tbody tr th:only-of-type {\n",
       "        vertical-align: middle;\n",
       "    }\n",
       "\n",
       "    .dataframe tbody tr th {\n",
       "        vertical-align: top;\n",
       "    }\n",
       "\n",
       "    .dataframe thead th {\n",
       "        text-align: right;\n",
       "    }\n",
       "</style>\n",
       "<table border=\"1\" class=\"dataframe\">\n",
       "  <thead>\n",
       "    <tr style=\"text-align: right;\">\n",
       "      <th></th>\n",
       "      <th>date</th>\n",
       "      <th>PULocationID</th>\n",
       "      <th>count</th>\n",
       "      <th>arima</th>\n",
       "      <th>PU_day_of_month</th>\n",
       "      <th>week_of_month</th>\n",
       "      <th>PU_day_of_week</th>\n",
       "      <th>last_day_demand</th>\n",
       "      <th>last_week_demand</th>\n",
       "      <th>lag1-8</th>\n",
       "      <th>lag2-9</th>\n",
       "      <th>lag3-10</th>\n",
       "      <th>lag4-11</th>\n",
       "      <th>label</th>\n",
       "    </tr>\n",
       "  </thead>\n",
       "  <tbody>\n",
       "    <tr>\n",
       "      <th>8424</th>\n",
       "      <td>2023-01-13</td>\n",
       "      <td>79</td>\n",
       "      <td>2771.0</td>\n",
       "      <td>1.117331</td>\n",
       "      <td>13</td>\n",
       "      <td>2</td>\n",
       "      <td>4</td>\n",
       "      <td>2024.0</td>\n",
       "      <td>2608.0</td>\n",
       "      <td>1.174014</td>\n",
       "      <td>1.158098</td>\n",
       "      <td>1.168135</td>\n",
       "      <td>1.067249</td>\n",
       "      <td>1.062500</td>\n",
       "    </tr>\n",
       "    <tr>\n",
       "      <th>8425</th>\n",
       "      <td>2023-01-14</td>\n",
       "      <td>79</td>\n",
       "      <td>5177.0</td>\n",
       "      <td>1.003131</td>\n",
       "      <td>14</td>\n",
       "      <td>2</td>\n",
       "      <td>5</td>\n",
       "      <td>2771.0</td>\n",
       "      <td>4471.0</td>\n",
       "      <td>1.062500</td>\n",
       "      <td>1.174014</td>\n",
       "      <td>1.158098</td>\n",
       "      <td>1.168135</td>\n",
       "      <td>1.157907</td>\n",
       "    </tr>\n",
       "    <tr>\n",
       "      <th>8426</th>\n",
       "      <td>2023-01-15</td>\n",
       "      <td>79</td>\n",
       "      <td>4366.0</td>\n",
       "      <td>1.114261</td>\n",
       "      <td>15</td>\n",
       "      <td>3</td>\n",
       "      <td>6</td>\n",
       "      <td>5177.0</td>\n",
       "      <td>3422.0</td>\n",
       "      <td>1.157907</td>\n",
       "      <td>1.062500</td>\n",
       "      <td>1.174014</td>\n",
       "      <td>1.158098</td>\n",
       "      <td>1.275862</td>\n",
       "    </tr>\n",
       "    <tr>\n",
       "      <th>8427</th>\n",
       "      <td>2023-01-16</td>\n",
       "      <td>79</td>\n",
       "      <td>1595.0</td>\n",
       "      <td>1.226678</td>\n",
       "      <td>16</td>\n",
       "      <td>3</td>\n",
       "      <td>0</td>\n",
       "      <td>4366.0</td>\n",
       "      <td>1222.0</td>\n",
       "      <td>1.275862</td>\n",
       "      <td>1.157907</td>\n",
       "      <td>1.062500</td>\n",
       "      <td>1.174014</td>\n",
       "      <td>1.305237</td>\n",
       "    </tr>\n",
       "    <tr>\n",
       "      <th>8428</th>\n",
       "      <td>2023-01-17</td>\n",
       "      <td>79</td>\n",
       "      <td>1408.0</td>\n",
       "      <td>0.963674</td>\n",
       "      <td>17</td>\n",
       "      <td>3</td>\n",
       "      <td>1</td>\n",
       "      <td>1595.0</td>\n",
       "      <td>1459.0</td>\n",
       "      <td>1.305237</td>\n",
       "      <td>1.275862</td>\n",
       "      <td>1.157907</td>\n",
       "      <td>1.062500</td>\n",
       "      <td>0.965045</td>\n",
       "    </tr>\n",
       "  </tbody>\n",
       "</table>\n",
       "</div>"
      ],
      "text/plain": [
       "            date  PULocationID   count     arima  PU_day_of_month  \\\n",
       "8424  2023-01-13            79  2771.0  1.117331               13   \n",
       "8425  2023-01-14            79  5177.0  1.003131               14   \n",
       "8426  2023-01-15            79  4366.0  1.114261               15   \n",
       "8427  2023-01-16            79  1595.0  1.226678               16   \n",
       "8428  2023-01-17            79  1408.0  0.963674               17   \n",
       "\n",
       "      week_of_month  PU_day_of_week  last_day_demand  last_week_demand  \\\n",
       "8424              2               4           2024.0            2608.0   \n",
       "8425              2               5           2771.0            4471.0   \n",
       "8426              3               6           5177.0            3422.0   \n",
       "8427              3               0           4366.0            1222.0   \n",
       "8428              3               1           1595.0            1459.0   \n",
       "\n",
       "        lag1-8    lag2-9   lag3-10   lag4-11     label  \n",
       "8424  1.174014  1.158098  1.168135  1.067249  1.062500  \n",
       "8425  1.062500  1.174014  1.158098  1.168135  1.157907  \n",
       "8426  1.157907  1.062500  1.174014  1.158098  1.275862  \n",
       "8427  1.275862  1.157907  1.062500  1.174014  1.305237  \n",
       "8428  1.305237  1.275862  1.157907  1.062500  0.965045  "
      ]
     },
     "execution_count": 6,
     "metadata": {},
     "output_type": "execute_result"
    }
   ],
   "source": [
    "rides_df[(rides_df['PULocationID'] == 79)].head()"
   ]
  },
  {
   "cell_type": "markdown",
   "metadata": {
    "id": "tvzGyWPQEM2-",
    "pycharm": {
     "name": "#%% md\n"
    }
   },
   "source": [
    "## Dropping some samples"
   ]
  },
  {
   "cell_type": "code",
   "execution_count": 7,
   "metadata": {
    "colab": {
     "base_uri": "https://localhost:8080/",
     "height": 221
    },
    "id": "VKDnrg9t6u84",
    "outputId": "1be04b7c-4beb-4682-c1b9-82dd41db53b3",
    "pycharm": {
     "name": "#%%\n"
    }
   },
   "outputs": [
    {
     "name": "stdout",
     "output_type": "stream",
     "text": [
      "(28296, 14)\n"
     ]
    },
    {
     "data": {
      "text/html": [
       "<div>\n",
       "<style scoped>\n",
       "    .dataframe tbody tr th:only-of-type {\n",
       "        vertical-align: middle;\n",
       "    }\n",
       "\n",
       "    .dataframe tbody tr th {\n",
       "        vertical-align: top;\n",
       "    }\n",
       "\n",
       "    .dataframe thead th {\n",
       "        text-align: right;\n",
       "    }\n",
       "</style>\n",
       "<table border=\"1\" class=\"dataframe\">\n",
       "  <thead>\n",
       "    <tr style=\"text-align: right;\">\n",
       "      <th></th>\n",
       "      <th>date</th>\n",
       "      <th>PULocationID</th>\n",
       "      <th>count</th>\n",
       "      <th>arima</th>\n",
       "      <th>PU_day_of_month</th>\n",
       "      <th>week_of_month</th>\n",
       "      <th>PU_day_of_week</th>\n",
       "      <th>last_day_demand</th>\n",
       "      <th>last_week_demand</th>\n",
       "      <th>lag1-8</th>\n",
       "      <th>lag2-9</th>\n",
       "      <th>lag3-10</th>\n",
       "      <th>lag4-11</th>\n",
       "      <th>label</th>\n",
       "    </tr>\n",
       "  </thead>\n",
       "  <tbody>\n",
       "    <tr>\n",
       "      <th>0</th>\n",
       "      <td>2023-01-13</td>\n",
       "      <td>1</td>\n",
       "      <td>22.0</td>\n",
       "      <td>0.916667</td>\n",
       "      <td>13</td>\n",
       "      <td>2</td>\n",
       "      <td>4</td>\n",
       "      <td>9.0</td>\n",
       "      <td>12.0</td>\n",
       "      <td>0.562500</td>\n",
       "      <td>1.250000</td>\n",
       "      <td>0.178571</td>\n",
       "      <td>0.468750</td>\n",
       "      <td>1.833333</td>\n",
       "    </tr>\n",
       "    <tr>\n",
       "      <th>1</th>\n",
       "      <td>2023-01-14</td>\n",
       "      <td>1</td>\n",
       "      <td>8.0</td>\n",
       "      <td>2.142857</td>\n",
       "      <td>14</td>\n",
       "      <td>2</td>\n",
       "      <td>5</td>\n",
       "      <td>22.0</td>\n",
       "      <td>7.0</td>\n",
       "      <td>1.833333</td>\n",
       "      <td>0.562500</td>\n",
       "      <td>1.250000</td>\n",
       "      <td>0.178571</td>\n",
       "      <td>1.142857</td>\n",
       "    </tr>\n",
       "    <tr>\n",
       "      <th>2</th>\n",
       "      <td>2023-01-15</td>\n",
       "      <td>1</td>\n",
       "      <td>20.0</td>\n",
       "      <td>0.846154</td>\n",
       "      <td>15</td>\n",
       "      <td>3</td>\n",
       "      <td>6</td>\n",
       "      <td>8.0</td>\n",
       "      <td>13.0</td>\n",
       "      <td>1.142857</td>\n",
       "      <td>1.833333</td>\n",
       "      <td>0.562500</td>\n",
       "      <td>1.250000</td>\n",
       "      <td>1.538462</td>\n",
       "    </tr>\n",
       "    <tr>\n",
       "      <th>3</th>\n",
       "      <td>2023-01-16</td>\n",
       "      <td>1</td>\n",
       "      <td>22.0</td>\n",
       "      <td>1.000000</td>\n",
       "      <td>16</td>\n",
       "      <td>3</td>\n",
       "      <td>0</td>\n",
       "      <td>20.0</td>\n",
       "      <td>15.0</td>\n",
       "      <td>1.538462</td>\n",
       "      <td>1.142857</td>\n",
       "      <td>1.833333</td>\n",
       "      <td>0.562500</td>\n",
       "      <td>1.466667</td>\n",
       "    </tr>\n",
       "    <tr>\n",
       "      <th>4</th>\n",
       "      <td>2023-01-17</td>\n",
       "      <td>1</td>\n",
       "      <td>19.0</td>\n",
       "      <td>3.000000</td>\n",
       "      <td>17</td>\n",
       "      <td>3</td>\n",
       "      <td>1</td>\n",
       "      <td>22.0</td>\n",
       "      <td>5.0</td>\n",
       "      <td>1.466667</td>\n",
       "      <td>1.538462</td>\n",
       "      <td>1.142857</td>\n",
       "      <td>1.833333</td>\n",
       "      <td>3.800000</td>\n",
       "    </tr>\n",
       "  </tbody>\n",
       "</table>\n",
       "</div>"
      ],
      "text/plain": [
       "         date  PULocationID  count     arima  PU_day_of_month  week_of_month  \\\n",
       "0  2023-01-13             1   22.0  0.916667               13              2   \n",
       "1  2023-01-14             1    8.0  2.142857               14              2   \n",
       "2  2023-01-15             1   20.0  0.846154               15              3   \n",
       "3  2023-01-16             1   22.0  1.000000               16              3   \n",
       "4  2023-01-17             1   19.0  3.000000               17              3   \n",
       "\n",
       "   PU_day_of_week  last_day_demand  last_week_demand    lag1-8    lag2-9  \\\n",
       "0               4              9.0              12.0  0.562500  1.250000   \n",
       "1               5             22.0               7.0  1.833333  0.562500   \n",
       "2               6              8.0              13.0  1.142857  1.833333   \n",
       "3               0             20.0              15.0  1.538462  1.142857   \n",
       "4               1             22.0               5.0  1.466667  1.538462   \n",
       "\n",
       "    lag3-10   lag4-11     label  \n",
       "0  0.178571  0.468750  1.833333  \n",
       "1  1.250000  0.178571  1.142857  \n",
       "2  0.562500  1.250000  1.538462  \n",
       "3  1.833333  0.562500  1.466667  \n",
       "4  1.142857  1.833333  3.800000  "
      ]
     },
     "execution_count": 7,
     "metadata": {},
     "output_type": "execute_result"
    }
   ],
   "source": [
    "rides_df = rides_df.dropna()\n",
    "rides_df = rides_df[rides_df['date'] < LAST_DATE]\n",
    "\n",
    "print(rides_df.shape)\n",
    "rides_df.head()"
   ]
  },
  {
   "cell_type": "markdown",
   "metadata": {
    "id": "7wZpKFTMS7Qb",
    "pycharm": {
     "name": "#%% md\n"
    }
   },
   "source": [
    "## Train and Test split"
   ]
  },
  {
   "cell_type": "code",
   "execution_count": 8,
   "metadata": {
    "colab": {
     "base_uri": "https://localhost:8080/",
     "height": 269
    },
    "id": "R-OC1_1yS-mF",
    "outputId": "5c79c970-8719-4d0d-c154-65ecbf4bdbc7",
    "pycharm": {
     "name": "#%%\n"
    }
   },
   "outputs": [
    {
     "name": "stdout",
     "output_type": "stream",
     "text": [
      "train_df shape: (20436, 13)\n",
      "test_df shape: (7860, 13)\n"
     ]
    },
    {
     "data": {
      "text/html": [
       "<div>\n",
       "<style scoped>\n",
       "    .dataframe tbody tr th:only-of-type {\n",
       "        vertical-align: middle;\n",
       "    }\n",
       "\n",
       "    .dataframe tbody tr th {\n",
       "        vertical-align: top;\n",
       "    }\n",
       "\n",
       "    .dataframe thead th {\n",
       "        text-align: right;\n",
       "    }\n",
       "</style>\n",
       "<table border=\"1\" class=\"dataframe\">\n",
       "  <thead>\n",
       "    <tr style=\"text-align: right;\">\n",
       "      <th></th>\n",
       "      <th>PULocationID</th>\n",
       "      <th>count</th>\n",
       "      <th>arima</th>\n",
       "      <th>PU_day_of_month</th>\n",
       "      <th>week_of_month</th>\n",
       "      <th>PU_day_of_week</th>\n",
       "      <th>last_day_demand</th>\n",
       "      <th>last_week_demand</th>\n",
       "      <th>lag1-8</th>\n",
       "      <th>lag2-9</th>\n",
       "      <th>lag3-10</th>\n",
       "      <th>lag4-11</th>\n",
       "      <th>label</th>\n",
       "    </tr>\n",
       "    <tr>\n",
       "      <th>date</th>\n",
       "      <th></th>\n",
       "      <th></th>\n",
       "      <th></th>\n",
       "      <th></th>\n",
       "      <th></th>\n",
       "      <th></th>\n",
       "      <th></th>\n",
       "      <th></th>\n",
       "      <th></th>\n",
       "      <th></th>\n",
       "      <th></th>\n",
       "      <th></th>\n",
       "      <th></th>\n",
       "    </tr>\n",
       "  </thead>\n",
       "  <tbody>\n",
       "    <tr>\n",
       "      <th>2023-01-13</th>\n",
       "      <td>1</td>\n",
       "      <td>22.0</td>\n",
       "      <td>0.916667</td>\n",
       "      <td>13</td>\n",
       "      <td>2</td>\n",
       "      <td>4</td>\n",
       "      <td>9.0</td>\n",
       "      <td>12.0</td>\n",
       "      <td>0.562500</td>\n",
       "      <td>1.250000</td>\n",
       "      <td>0.178571</td>\n",
       "      <td>0.468750</td>\n",
       "      <td>1.833333</td>\n",
       "    </tr>\n",
       "    <tr>\n",
       "      <th>2023-01-14</th>\n",
       "      <td>1</td>\n",
       "      <td>8.0</td>\n",
       "      <td>2.142857</td>\n",
       "      <td>14</td>\n",
       "      <td>2</td>\n",
       "      <td>5</td>\n",
       "      <td>22.0</td>\n",
       "      <td>7.0</td>\n",
       "      <td>1.833333</td>\n",
       "      <td>0.562500</td>\n",
       "      <td>1.250000</td>\n",
       "      <td>0.178571</td>\n",
       "      <td>1.142857</td>\n",
       "    </tr>\n",
       "    <tr>\n",
       "      <th>2023-01-15</th>\n",
       "      <td>1</td>\n",
       "      <td>20.0</td>\n",
       "      <td>0.846154</td>\n",
       "      <td>15</td>\n",
       "      <td>3</td>\n",
       "      <td>6</td>\n",
       "      <td>8.0</td>\n",
       "      <td>13.0</td>\n",
       "      <td>1.142857</td>\n",
       "      <td>1.833333</td>\n",
       "      <td>0.562500</td>\n",
       "      <td>1.250000</td>\n",
       "      <td>1.538462</td>\n",
       "    </tr>\n",
       "    <tr>\n",
       "      <th>2023-01-16</th>\n",
       "      <td>1</td>\n",
       "      <td>22.0</td>\n",
       "      <td>1.000000</td>\n",
       "      <td>16</td>\n",
       "      <td>3</td>\n",
       "      <td>0</td>\n",
       "      <td>20.0</td>\n",
       "      <td>15.0</td>\n",
       "      <td>1.538462</td>\n",
       "      <td>1.142857</td>\n",
       "      <td>1.833333</td>\n",
       "      <td>0.562500</td>\n",
       "      <td>1.466667</td>\n",
       "    </tr>\n",
       "    <tr>\n",
       "      <th>2023-01-17</th>\n",
       "      <td>1</td>\n",
       "      <td>19.0</td>\n",
       "      <td>3.000000</td>\n",
       "      <td>17</td>\n",
       "      <td>3</td>\n",
       "      <td>1</td>\n",
       "      <td>22.0</td>\n",
       "      <td>5.0</td>\n",
       "      <td>1.466667</td>\n",
       "      <td>1.538462</td>\n",
       "      <td>1.142857</td>\n",
       "      <td>1.833333</td>\n",
       "      <td>3.800000</td>\n",
       "    </tr>\n",
       "  </tbody>\n",
       "</table>\n",
       "</div>"
      ],
      "text/plain": [
       "            PULocationID  count     arima  PU_day_of_month  week_of_month  \\\n",
       "date                                                                        \n",
       "2023-01-13             1   22.0  0.916667               13              2   \n",
       "2023-01-14             1    8.0  2.142857               14              2   \n",
       "2023-01-15             1   20.0  0.846154               15              3   \n",
       "2023-01-16             1   22.0  1.000000               16              3   \n",
       "2023-01-17             1   19.0  3.000000               17              3   \n",
       "\n",
       "            PU_day_of_week  last_day_demand  last_week_demand    lag1-8  \\\n",
       "date                                                                      \n",
       "2023-01-13               4              9.0              12.0  0.562500   \n",
       "2023-01-14               5             22.0               7.0  1.833333   \n",
       "2023-01-15               6              8.0              13.0  1.142857   \n",
       "2023-01-16               0             20.0              15.0  1.538462   \n",
       "2023-01-17               1             22.0               5.0  1.466667   \n",
       "\n",
       "              lag2-9   lag3-10   lag4-11     label  \n",
       "date                                                \n",
       "2023-01-13  1.250000  0.178571  0.468750  1.833333  \n",
       "2023-01-14  0.562500  1.250000  0.178571  1.142857  \n",
       "2023-01-15  1.833333  0.562500  1.250000  1.538462  \n",
       "2023-01-16  1.142857  1.833333  0.562500  1.466667  \n",
       "2023-01-17  1.538462  1.142857  1.833333  3.800000  "
      ]
     },
     "execution_count": 8,
     "metadata": {},
     "output_type": "execute_result"
    }
   ],
   "source": [
    "def train_and_test_split(df: pd.DataFrame, split_date):\n",
    "  train, test = df[df['date'] < split_date], df[df['date'] >= split_date]\n",
    "\n",
    "  train.set_index('date', inplace = True)\n",
    "  test.set_index('date', inplace = True)\n",
    "  return train, test\n",
    "\n",
    "train_df, test_df = train_and_test_split(rides_df, TEST_DATE)\n",
    "\n",
    "print('train_df shape:', train_df.shape)\n",
    "print('test_df shape:', test_df.shape)\n",
    "train_df.head()"
   ]
  },
  {
   "cell_type": "markdown",
   "metadata": {
    "id": "aOdaGdscgNQM",
    "pycharm": {
     "name": "#%% md\n"
    }
   },
   "source": [
    "## Target and Feature split"
   ]
  },
  {
   "cell_type": "code",
   "execution_count": 9,
   "metadata": {
    "id": "eoTmtHn-ruLL",
    "pycharm": {
     "name": "#%%\n"
    }
   },
   "outputs": [],
   "source": [
    "train_set_label = train_df[TARGET]\n",
    "train_set = train_df[FEATURE_LIST]\n",
    "\n",
    "y_test = test_df[TARGET]\n",
    "x_test = test_df[FEATURE_LIST]"
   ]
  },
  {
   "cell_type": "markdown",
   "metadata": {
    "id": "0Ohrvwo2fwnC",
    "pycharm": {
     "name": "#%% md\n"
    }
   },
   "source": [
    "## Train and Validation split"
   ]
  },
  {
   "cell_type": "code",
   "execution_count": 10,
   "metadata": {
    "id": "A_-X9bYeTO_j",
    "pycharm": {
     "name": "#%%\n"
    }
   },
   "outputs": [],
   "source": [
    "x_train, x_validation, y_train, y_validation = train_test_split(\n",
    "    train_set, train_set_label, test_size=VALIDATION_SPLIT_RATIO, shuffle=True)"
   ]
  },
  {
   "cell_type": "markdown",
   "metadata": {
    "id": "ghHG1ei3gdme",
    "pycharm": {
     "name": "#%% md\n"
    }
   },
   "source": [
    "# ML Models"
   ]
  },
  {
   "cell_type": "code",
   "execution_count": 11,
   "metadata": {
    "id": "mdnjPVLundY2",
    "pycharm": {
     "name": "#%%\n"
    }
   },
   "outputs": [],
   "source": [
    "def model_training(ml_model, x_train, y_train, **params):\n",
    "  model = ml_model(**params)\n",
    "  model.fit(x_train, y_train)\n",
    "  return model\n",
    "\n",
    "replace_negatives = np.vectorize(lambda x : 1 if x < 1 else x)"
   ]
  },
  {
   "cell_type": "markdown",
   "metadata": {
    "id": "LN9nCqA9GSy1",
    "pycharm": {
     "name": "#%% md\n"
    }
   },
   "source": [
    "## Calculate Error"
   ]
  },
  {
   "cell_type": "code",
   "execution_count": 12,
   "metadata": {
    "id": "wddQ_PcZqlI2",
    "pycharm": {
     "name": "#%%\n"
    }
   },
   "outputs": [],
   "source": [
    "def symmetric_mean_absolute_percentage_error(actual, predicted):\n",
    "    res = np.mean(np.abs(predicted - actual) / ((np.abs(predicted) + np.abs(actual)) / 2))\n",
    "    return round(res, 4)\n",
    "\n",
    "\n",
    "def error_calculator(real_demand, predicted_demand):\n",
    "  print('SMAPE: ', '{:.2%}'.format(symmetric_mean_absolute_percentage_error(real_demand, predicted_demand)))\n",
    "  print('MAPE: ', '{:.2%}'.format(mean_absolute_percentage_error(real_demand, predicted_demand)))\n",
    "  print('MSE: ', '{:.2f}'.format(mean_squared_error(real_demand, predicted_demand)))\n",
    "  print('MAE: ', '{:.2f}'.format(mean_absolute_error(real_demand, predicted_demand)))\n"
   ]
  },
  {
   "cell_type": "markdown",
   "metadata": {
    "id": "UJ9QcWTapixZ",
    "pycharm": {
     "name": "#%% md\n"
    }
   },
   "source": [
    "## Linear Regression Model"
   ]
  },
  {
   "cell_type": "code",
   "execution_count": 13,
   "metadata": {
    "id": "P9IrrcU8iAft",
    "pycharm": {
     "name": "#%%\n"
    }
   },
   "outputs": [],
   "source": [
    "lr_model = model_training(LinearRegression, x_train, y_train)"
   ]
  },
  {
   "cell_type": "markdown",
   "metadata": {
    "id": "9ioUk22GgpFy",
    "pycharm": {
     "name": "#%% md\n"
    }
   },
   "source": [
    "### Validation prediction"
   ]
  },
  {
   "cell_type": "code",
   "execution_count": 14,
   "metadata": {
    "colab": {
     "base_uri": "https://localhost:8080/"
    },
    "id": "-4qoRLP4VqFr",
    "outputId": "d8f41d2a-9566-44cf-957a-c6975f876178",
    "pycharm": {
     "name": "#%%\n"
    }
   },
   "outputs": [
    {
     "name": "stdout",
     "output_type": "stream",
     "text": [
      "SMAPE:  34.38%\n",
      "MAPE:  44.60%\n",
      "MSE:  0.37\n",
      "MAE:  0.40\n"
     ]
    }
   ],
   "source": [
    "lr_validation_pred = lr_model.predict(x_validation)\n",
    "error_calculator(y_validation,lr_validation_pred)"
   ]
  },
  {
   "cell_type": "markdown",
   "metadata": {
    "id": "RtoGP9VchGKZ",
    "pycharm": {
     "name": "#%% md\n"
    }
   },
   "source": [
    "### Test prediction"
   ]
  },
  {
   "cell_type": "code",
   "execution_count": 15,
   "metadata": {
    "colab": {
     "base_uri": "https://localhost:8080/"
    },
    "id": "tt6TaA5SVf65",
    "outputId": "8a9741c1-4abd-473c-a721-97c625efa6de",
    "pycharm": {
     "name": "#%%\n"
    }
   },
   "outputs": [
    {
     "name": "stdout",
     "output_type": "stream",
     "text": [
      "SMAPE:  32.72%\n",
      "MAPE:  44.29%\n",
      "MSE:  49570.61\n",
      "MAE:  64.20\n"
     ]
    }
   ],
   "source": [
    "lr_test_pred = lr_model.predict(x_test)\n",
    "error_calculator(\n",
    "    y_test * test_df['last_week_demand'], replace_negatives(lr_test_pred*test_df['last_week_demand']))"
   ]
  },
  {
   "cell_type": "markdown",
   "metadata": {
    "id": "2GZMbrj_4lel",
    "pycharm": {
     "name": "#%% md\n"
    }
   },
   "source": [
    "### Result Data"
   ]
  },
  {
   "cell_type": "code",
   "execution_count": 16,
   "metadata": {
    "colab": {
     "base_uri": "https://localhost:8080/",
     "height": 252
    },
    "id": "JvIW0Jme4len",
    "outputId": "a0f3234c-ead6-4072-80e9-fd81d38f267f",
    "pycharm": {
     "name": "#%%\n"
    }
   },
   "outputs": [
    {
     "name": "stdout",
     "output_type": "stream",
     "text": [
      "(7860, 14)\n"
     ]
    },
    {
     "data": {
      "text/html": [
       "<div>\n",
       "<style scoped>\n",
       "    .dataframe tbody tr th:only-of-type {\n",
       "        vertical-align: middle;\n",
       "    }\n",
       "\n",
       "    .dataframe tbody tr th {\n",
       "        vertical-align: top;\n",
       "    }\n",
       "\n",
       "    .dataframe thead th {\n",
       "        text-align: right;\n",
       "    }\n",
       "</style>\n",
       "<table border=\"1\" class=\"dataframe\">\n",
       "  <thead>\n",
       "    <tr style=\"text-align: right;\">\n",
       "      <th></th>\n",
       "      <th>PULocationID</th>\n",
       "      <th>arima</th>\n",
       "      <th>PU_day_of_month</th>\n",
       "      <th>week_of_month</th>\n",
       "      <th>PU_day_of_week</th>\n",
       "      <th>last_day_demand</th>\n",
       "      <th>last_week_demand</th>\n",
       "      <th>lag1-8</th>\n",
       "      <th>lag2-9</th>\n",
       "      <th>lag3-10</th>\n",
       "      <th>lag4-11</th>\n",
       "      <th>label</th>\n",
       "      <th>real demand</th>\n",
       "      <th>predicted demand</th>\n",
       "    </tr>\n",
       "    <tr>\n",
       "      <th>date</th>\n",
       "      <th></th>\n",
       "      <th></th>\n",
       "      <th></th>\n",
       "      <th></th>\n",
       "      <th></th>\n",
       "      <th></th>\n",
       "      <th></th>\n",
       "      <th></th>\n",
       "      <th></th>\n",
       "      <th></th>\n",
       "      <th></th>\n",
       "      <th></th>\n",
       "      <th></th>\n",
       "      <th></th>\n",
       "    </tr>\n",
       "  </thead>\n",
       "  <tbody>\n",
       "    <tr>\n",
       "      <th>2023-04-01</th>\n",
       "      <td>1</td>\n",
       "      <td>0.812500</td>\n",
       "      <td>1</td>\n",
       "      <td>1</td>\n",
       "      <td>5</td>\n",
       "      <td>14.0</td>\n",
       "      <td>16.0</td>\n",
       "      <td>1.400000</td>\n",
       "      <td>0.636364</td>\n",
       "      <td>0.800000</td>\n",
       "      <td>2.142857</td>\n",
       "      <td>0.875000</td>\n",
       "      <td>14.0</td>\n",
       "      <td>18.631744</td>\n",
       "    </tr>\n",
       "    <tr>\n",
       "      <th>2023-04-02</th>\n",
       "      <td>1</td>\n",
       "      <td>0.866667</td>\n",
       "      <td>2</td>\n",
       "      <td>1</td>\n",
       "      <td>6</td>\n",
       "      <td>14.0</td>\n",
       "      <td>15.0</td>\n",
       "      <td>0.875000</td>\n",
       "      <td>1.400000</td>\n",
       "      <td>0.636364</td>\n",
       "      <td>0.800000</td>\n",
       "      <td>1.200000</td>\n",
       "      <td>18.0</td>\n",
       "      <td>17.689156</td>\n",
       "    </tr>\n",
       "    <tr>\n",
       "      <th>2023-04-03</th>\n",
       "      <td>1</td>\n",
       "      <td>3.500000</td>\n",
       "      <td>3</td>\n",
       "      <td>1</td>\n",
       "      <td>0</td>\n",
       "      <td>18.0</td>\n",
       "      <td>4.0</td>\n",
       "      <td>1.200000</td>\n",
       "      <td>0.875000</td>\n",
       "      <td>1.400000</td>\n",
       "      <td>0.636364</td>\n",
       "      <td>2.500000</td>\n",
       "      <td>10.0</td>\n",
       "      <td>10.527104</td>\n",
       "    </tr>\n",
       "    <tr>\n",
       "      <th>2023-04-04</th>\n",
       "      <td>1</td>\n",
       "      <td>0.800000</td>\n",
       "      <td>4</td>\n",
       "      <td>1</td>\n",
       "      <td>1</td>\n",
       "      <td>10.0</td>\n",
       "      <td>15.0</td>\n",
       "      <td>2.500000</td>\n",
       "      <td>1.200000</td>\n",
       "      <td>0.875000</td>\n",
       "      <td>1.400000</td>\n",
       "      <td>0.866667</td>\n",
       "      <td>13.0</td>\n",
       "      <td>18.596519</td>\n",
       "    </tr>\n",
       "    <tr>\n",
       "      <th>2023-04-05</th>\n",
       "      <td>1</td>\n",
       "      <td>1.625000</td>\n",
       "      <td>5</td>\n",
       "      <td>1</td>\n",
       "      <td>2</td>\n",
       "      <td>13.0</td>\n",
       "      <td>8.0</td>\n",
       "      <td>0.866667</td>\n",
       "      <td>2.500000</td>\n",
       "      <td>1.200000</td>\n",
       "      <td>0.875000</td>\n",
       "      <td>2.375000</td>\n",
       "      <td>19.0</td>\n",
       "      <td>13.364075</td>\n",
       "    </tr>\n",
       "  </tbody>\n",
       "</table>\n",
       "</div>"
      ],
      "text/plain": [
       "            PULocationID     arima  PU_day_of_month  week_of_month  \\\n",
       "date                                                                 \n",
       "2023-04-01             1  0.812500                1              1   \n",
       "2023-04-02             1  0.866667                2              1   \n",
       "2023-04-03             1  3.500000                3              1   \n",
       "2023-04-04             1  0.800000                4              1   \n",
       "2023-04-05             1  1.625000                5              1   \n",
       "\n",
       "            PU_day_of_week  last_day_demand  last_week_demand    lag1-8  \\\n",
       "date                                                                      \n",
       "2023-04-01               5             14.0              16.0  1.400000   \n",
       "2023-04-02               6             14.0              15.0  0.875000   \n",
       "2023-04-03               0             18.0               4.0  1.200000   \n",
       "2023-04-04               1             10.0              15.0  2.500000   \n",
       "2023-04-05               2             13.0               8.0  0.866667   \n",
       "\n",
       "              lag2-9   lag3-10   lag4-11     label  real demand  \\\n",
       "date                                                              \n",
       "2023-04-01  0.636364  0.800000  2.142857  0.875000         14.0   \n",
       "2023-04-02  1.400000  0.636364  0.800000  1.200000         18.0   \n",
       "2023-04-03  0.875000  1.400000  0.636364  2.500000         10.0   \n",
       "2023-04-04  1.200000  0.875000  1.400000  0.866667         13.0   \n",
       "2023-04-05  2.500000  1.200000  0.875000  2.375000         19.0   \n",
       "\n",
       "            predicted demand  \n",
       "date                          \n",
       "2023-04-01         18.631744  \n",
       "2023-04-02         17.689156  \n",
       "2023-04-03         10.527104  \n",
       "2023-04-04         18.596519  \n",
       "2023-04-05         13.364075  "
      ]
     },
     "execution_count": 16,
     "metadata": {},
     "output_type": "execute_result"
    }
   ],
   "source": [
    "lr_result_df = test_df.copy()\n",
    "lr_result_df.drop('count',axis=1,inplace=True)\n",
    "lr_result_df['real demand'] = y_test * test_df['last_week_demand']\n",
    "lr_result_df['predicted demand'] =replace_negatives( lr_test_pred * test_df['last_week_demand'])\n",
    "\n",
    "print(lr_result_df.shape)\n",
    "lr_result_df.head()"
   ]
  },
  {
   "cell_type": "code",
   "execution_count": 17,
   "metadata": {
    "id": "19J1PjyuG-iC",
    "pycharm": {
     "name": "#%%\n"
    }
   },
   "outputs": [],
   "source": [
    "lr_result_df.to_parquet(LR_OUTPUT_PATH)"
   ]
  },
  {
   "cell_type": "markdown",
   "metadata": {
    "id": "_Zx1nQT8pixc",
    "pycharm": {
     "name": "#%% md\n"
    }
   },
   "source": [
    "## XGBoost Model"
   ]
  },
  {
   "cell_type": "markdown",
   "metadata": {
    "id": "etcdoxu8hcxW",
    "pycharm": {
     "name": "#%% md\n"
    }
   },
   "source": [
    "### Hyperparameter tuning"
   ]
  },
  {
   "cell_type": "code",
   "execution_count": 18,
   "metadata": {
    "colab": {
     "base_uri": "https://localhost:8080/"
    },
    "id": "EtPJikUtoV5t",
    "outputId": "23199f57-5128-4836-c235-533e317c4706",
    "pycharm": {
     "name": "#%%\n"
    }
   },
   "outputs": [
    {
     "name": "stdout",
     "output_type": "stream",
     "text": [
      "{'learning_rate': 0.1, 'max_depth': 3, 'n_estimators': 100}\n"
     ]
    }
   ],
   "source": [
    "def hyper_parameter_tuning(x_train, y_train, n_estimators, learning_rate, max_depth, scoring_method):\n",
    "  parameters = {\n",
    "      'n_estimators' : n_estimators,\n",
    "      'learning_rate' : learning_rate,\n",
    "      'max_depth' : max_depth\n",
    "  }\n",
    "\n",
    "  gc = GridSearchCV(XGBRegressor(), parameters, scoring=scoring_method)\n",
    "  gc.fit(x_train, y_train)\n",
    "  return gc.best_params_\n",
    "\n",
    "\n",
    "n_estimators = [100,700, 1000]\n",
    "learning_rate = [0.15, 0.1, 0.01]\n",
    "max_depth = [3,5]\n",
    "scoring_method = 'neg_root_mean_squared_error'\n",
    "\n",
    "params = hyper_parameter_tuning(\n",
    "    x_train,\n",
    "    y_train,\n",
    "    n_estimators,\n",
    "    learning_rate,\n",
    "    max_depth,\n",
    "    scoring_method\n",
    ")\n",
    "\n",
    "print(params)"
   ]
  },
  {
   "cell_type": "markdown",
   "metadata": {
    "id": "Zo2pKnCThqTm",
    "pycharm": {
     "name": "#%% md\n"
    }
   },
   "source": [
    "### XGBoost Model"
   ]
  },
  {
   "cell_type": "code",
   "execution_count": 19,
   "metadata": {
    "id": "4jiwwi53pBbM",
    "pycharm": {
     "name": "#%%\n"
    }
   },
   "outputs": [],
   "source": [
    "XGB_model = model_training(XGBRegressor, x_train, y_train, **params)"
   ]
  },
  {
   "cell_type": "markdown",
   "metadata": {
    "id": "Y1ruHSFikZfu",
    "pycharm": {
     "name": "#%% md\n"
    }
   },
   "source": [
    "### Validation prediction"
   ]
  },
  {
   "cell_type": "code",
   "execution_count": 20,
   "metadata": {
    "colab": {
     "base_uri": "https://localhost:8080/"
    },
    "id": "Cs6kMlFLklAP",
    "outputId": "607c7e12-2301-46f7-8c32-f2f8b3b6afcf",
    "pycharm": {
     "name": "#%%\n"
    }
   },
   "outputs": [
    {
     "name": "stdout",
     "output_type": "stream",
     "text": [
      "SMAPE:  27.02%\n",
      "MAPE:  33.42%\n",
      "MSE:  0.26\n",
      "MAE:  0.32\n"
     ]
    }
   ],
   "source": [
    "XGB_validation_pred = (XGB_model.predict(x_validation))\n",
    "error_calculator(y_validation,XGB_validation_pred)"
   ]
  },
  {
   "cell_type": "markdown",
   "metadata": {
    "id": "crmdtYCakcDk",
    "pycharm": {
     "name": "#%% md\n"
    }
   },
   "source": [
    "### Test prediction"
   ]
  },
  {
   "cell_type": "code",
   "execution_count": 21,
   "metadata": {
    "colab": {
     "base_uri": "https://localhost:8080/"
    },
    "id": "FTeKWnmNkoWy",
    "outputId": "35bf8995-bc54-44f8-da85-f127fe43eaa0",
    "pycharm": {
     "name": "#%%\n"
    }
   },
   "outputs": [
    {
     "name": "stdout",
     "output_type": "stream",
     "text": [
      "SMAPE:  27.97%\n",
      "MAPE:  34.50%\n",
      "MSE:  12209.54\n",
      "MAE:  36.30\n"
     ]
    }
   ],
   "source": [
    "XGB_test_pred = (XGB_model.predict(x_test))\n",
    "error_calculator(y_test * test_df['last_week_demand'],replace_negatives(XGB_test_pred * test_df['last_week_demand']))"
   ]
  },
  {
   "cell_type": "markdown",
   "metadata": {
    "id": "-tvgz0FB4anZ",
    "pycharm": {
     "name": "#%% md\n"
    }
   },
   "source": [
    "### Result Data"
   ]
  },
  {
   "cell_type": "code",
   "execution_count": 22,
   "metadata": {
    "colab": {
     "base_uri": "https://localhost:8080/",
     "height": 252
    },
    "id": "gmF1vuTn0l-5",
    "outputId": "f17bdc63-1d56-49d5-d862-c7f9d9cbd6a5",
    "pycharm": {
     "name": "#%%\n"
    }
   },
   "outputs": [
    {
     "name": "stdout",
     "output_type": "stream",
     "text": [
      "(7860, 14)\n"
     ]
    },
    {
     "data": {
      "text/html": [
       "<div>\n",
       "<style scoped>\n",
       "    .dataframe tbody tr th:only-of-type {\n",
       "        vertical-align: middle;\n",
       "    }\n",
       "\n",
       "    .dataframe tbody tr th {\n",
       "        vertical-align: top;\n",
       "    }\n",
       "\n",
       "    .dataframe thead th {\n",
       "        text-align: right;\n",
       "    }\n",
       "</style>\n",
       "<table border=\"1\" class=\"dataframe\">\n",
       "  <thead>\n",
       "    <tr style=\"text-align: right;\">\n",
       "      <th></th>\n",
       "      <th>PULocationID</th>\n",
       "      <th>arima</th>\n",
       "      <th>PU_day_of_month</th>\n",
       "      <th>week_of_month</th>\n",
       "      <th>PU_day_of_week</th>\n",
       "      <th>last_day_demand</th>\n",
       "      <th>last_week_demand</th>\n",
       "      <th>lag1-8</th>\n",
       "      <th>lag2-9</th>\n",
       "      <th>lag3-10</th>\n",
       "      <th>lag4-11</th>\n",
       "      <th>label</th>\n",
       "      <th>real demand</th>\n",
       "      <th>predicted demand</th>\n",
       "    </tr>\n",
       "    <tr>\n",
       "      <th>date</th>\n",
       "      <th></th>\n",
       "      <th></th>\n",
       "      <th></th>\n",
       "      <th></th>\n",
       "      <th></th>\n",
       "      <th></th>\n",
       "      <th></th>\n",
       "      <th></th>\n",
       "      <th></th>\n",
       "      <th></th>\n",
       "      <th></th>\n",
       "      <th></th>\n",
       "      <th></th>\n",
       "      <th></th>\n",
       "    </tr>\n",
       "  </thead>\n",
       "  <tbody>\n",
       "    <tr>\n",
       "      <th>2023-04-01</th>\n",
       "      <td>1</td>\n",
       "      <td>0.812500</td>\n",
       "      <td>1</td>\n",
       "      <td>1</td>\n",
       "      <td>5</td>\n",
       "      <td>14.0</td>\n",
       "      <td>16.0</td>\n",
       "      <td>1.400000</td>\n",
       "      <td>0.636364</td>\n",
       "      <td>0.800000</td>\n",
       "      <td>2.142857</td>\n",
       "      <td>0.875000</td>\n",
       "      <td>14.0</td>\n",
       "      <td>15.044990</td>\n",
       "    </tr>\n",
       "    <tr>\n",
       "      <th>2023-04-02</th>\n",
       "      <td>1</td>\n",
       "      <td>0.866667</td>\n",
       "      <td>2</td>\n",
       "      <td>1</td>\n",
       "      <td>6</td>\n",
       "      <td>14.0</td>\n",
       "      <td>15.0</td>\n",
       "      <td>0.875000</td>\n",
       "      <td>1.400000</td>\n",
       "      <td>0.636364</td>\n",
       "      <td>0.800000</td>\n",
       "      <td>1.200000</td>\n",
       "      <td>18.0</td>\n",
       "      <td>14.524966</td>\n",
       "    </tr>\n",
       "    <tr>\n",
       "      <th>2023-04-03</th>\n",
       "      <td>1</td>\n",
       "      <td>3.500000</td>\n",
       "      <td>3</td>\n",
       "      <td>1</td>\n",
       "      <td>0</td>\n",
       "      <td>18.0</td>\n",
       "      <td>4.0</td>\n",
       "      <td>1.200000</td>\n",
       "      <td>0.875000</td>\n",
       "      <td>1.400000</td>\n",
       "      <td>0.636364</td>\n",
       "      <td>2.500000</td>\n",
       "      <td>10.0</td>\n",
       "      <td>11.454600</td>\n",
       "    </tr>\n",
       "    <tr>\n",
       "      <th>2023-04-04</th>\n",
       "      <td>1</td>\n",
       "      <td>0.800000</td>\n",
       "      <td>4</td>\n",
       "      <td>1</td>\n",
       "      <td>1</td>\n",
       "      <td>10.0</td>\n",
       "      <td>15.0</td>\n",
       "      <td>2.500000</td>\n",
       "      <td>1.200000</td>\n",
       "      <td>0.875000</td>\n",
       "      <td>1.400000</td>\n",
       "      <td>0.866667</td>\n",
       "      <td>13.0</td>\n",
       "      <td>14.461575</td>\n",
       "    </tr>\n",
       "    <tr>\n",
       "      <th>2023-04-05</th>\n",
       "      <td>1</td>\n",
       "      <td>1.625000</td>\n",
       "      <td>5</td>\n",
       "      <td>1</td>\n",
       "      <td>2</td>\n",
       "      <td>13.0</td>\n",
       "      <td>8.0</td>\n",
       "      <td>0.866667</td>\n",
       "      <td>2.500000</td>\n",
       "      <td>1.200000</td>\n",
       "      <td>0.875000</td>\n",
       "      <td>2.375000</td>\n",
       "      <td>19.0</td>\n",
       "      <td>12.628479</td>\n",
       "    </tr>\n",
       "  </tbody>\n",
       "</table>\n",
       "</div>"
      ],
      "text/plain": [
       "            PULocationID     arima  PU_day_of_month  week_of_month  \\\n",
       "date                                                                 \n",
       "2023-04-01             1  0.812500                1              1   \n",
       "2023-04-02             1  0.866667                2              1   \n",
       "2023-04-03             1  3.500000                3              1   \n",
       "2023-04-04             1  0.800000                4              1   \n",
       "2023-04-05             1  1.625000                5              1   \n",
       "\n",
       "            PU_day_of_week  last_day_demand  last_week_demand    lag1-8  \\\n",
       "date                                                                      \n",
       "2023-04-01               5             14.0              16.0  1.400000   \n",
       "2023-04-02               6             14.0              15.0  0.875000   \n",
       "2023-04-03               0             18.0               4.0  1.200000   \n",
       "2023-04-04               1             10.0              15.0  2.500000   \n",
       "2023-04-05               2             13.0               8.0  0.866667   \n",
       "\n",
       "              lag2-9   lag3-10   lag4-11     label  real demand  \\\n",
       "date                                                              \n",
       "2023-04-01  0.636364  0.800000  2.142857  0.875000         14.0   \n",
       "2023-04-02  1.400000  0.636364  0.800000  1.200000         18.0   \n",
       "2023-04-03  0.875000  1.400000  0.636364  2.500000         10.0   \n",
       "2023-04-04  1.200000  0.875000  1.400000  0.866667         13.0   \n",
       "2023-04-05  2.500000  1.200000  0.875000  2.375000         19.0   \n",
       "\n",
       "            predicted demand  \n",
       "date                          \n",
       "2023-04-01         15.044990  \n",
       "2023-04-02         14.524966  \n",
       "2023-04-03         11.454600  \n",
       "2023-04-04         14.461575  \n",
       "2023-04-05         12.628479  "
      ]
     },
     "execution_count": 22,
     "metadata": {},
     "output_type": "execute_result"
    }
   ],
   "source": [
    "XGB_result_df = test_df.copy()\n",
    "XGB_result_df.drop('count',axis=1,inplace=True)\n",
    "XGB_result_df['real demand'] = y_test * test_df['last_week_demand']\n",
    "XGB_result_df['predicted demand'] = replace_negatives(XGB_test_pred * test_df['last_week_demand'])\n",
    "\n",
    "print(XGB_result_df.shape)\n",
    "XGB_result_df.head()"
   ]
  },
  {
   "cell_type": "code",
   "execution_count": 23,
   "metadata": {
    "id": "O0mga6itGpIQ",
    "pycharm": {
     "name": "#%%\n"
    }
   },
   "outputs": [],
   "source": [
    "XGB_result_df.to_parquet(XGB_OUTPUT_PATH)"
   ]
  }
 ],
 "metadata": {
  "colab": {
   "provenance": []
  },
  "kernelspec": {
   "display_name": "Python 3",
   "language": "python",
   "name": "python3"
  },
  "language_info": {
   "codemirror_mode": {
    "name": "ipython",
    "version": 3
   },
   "file_extension": ".py",
   "mimetype": "text/x-python",
   "name": "python",
   "nbconvert_exporter": "python",
   "pygments_lexer": "ipython3",
   "version": "3.8.2"
  }
 },
 "nbformat": 4,
 "nbformat_minor": 1
}
