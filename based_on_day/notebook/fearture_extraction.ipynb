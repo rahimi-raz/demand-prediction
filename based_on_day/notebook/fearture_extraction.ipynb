{
 "cells": [
  {
   "cell_type": "markdown",
   "metadata": {
    "id": "XetvxEdeP_9R",
    "pycharm": {
     "name": "#%% md\n"
    }
   },
   "source": [
    "# Feature Selection"
   ]
  },
  {
   "cell_type": "code",
   "execution_count": 2,
   "metadata": {
    "id": "SKFmAIzF5K8j",
    "pycharm": {
     "name": "#%%\n"
    }
   },
   "outputs": [],
   "source": [
    "import numpy as np\n",
    "import pandas as pd\n",
    "import warnings\n",
    "\n",
    "warnings.simplefilter('ignore')"
   ]
  },
  {
   "cell_type": "markdown",
   "metadata": {
    "pycharm": {
     "name": "#%% md\n"
    }
   },
   "source": [
    "### config"
   ]
  },
  {
   "cell_type": "code",
   "execution_count": 3,
   "metadata": {
    "collapsed": false,
    "pycharm": {
     "name": "#%%\n"
    }
   },
   "outputs": [],
   "source": [
    "BASE_PATH = \"D:/projects/rahnamcollege-ml/demand-prediction/\"\n",
    "\n",
    "LABEL_FILE_PATH = BASE_PATH + 'data/label/'\n",
    "DATA_FILE_PATHS = BASE_PATH + 'data/input/label.parquet'\n",
    "OUTPUT_PATH = BASE_PATH + \"data/output/features.parquet\"\n",
    "ARIMA_PATH= BASE_PATH + 'data/output/arima_output.xlsx'\n",
    "START_DATE = '2023-01-01'"
   ]
  },
  {
   "cell_type": "markdown",
   "metadata": {
    "collapsed": false,
    "pycharm": {
     "name": "#%% md\n"
    }
   },
   "source": [
    "### load label"
   ]
  },
  {
   "cell_type": "code",
   "execution_count": 4,
   "metadata": {
    "collapsed": false,
    "pycharm": {
     "name": "#%%\n"
    }
   },
   "outputs": [
    {
     "name": "stdout",
     "output_type": "stream",
     "text": [
      "(31964, 3)\n"
     ]
    },
    {
     "data": {
      "text/html": [
       "<div>\n",
       "<style scoped>\n",
       "    .dataframe tbody tr th:only-of-type {\n",
       "        vertical-align: middle;\n",
       "    }\n",
       "\n",
       "    .dataframe tbody tr th {\n",
       "        vertical-align: top;\n",
       "    }\n",
       "\n",
       "    .dataframe thead th {\n",
       "        text-align: right;\n",
       "    }\n",
       "</style>\n",
       "<table border=\"1\" class=\"dataframe\">\n",
       "  <thead>\n",
       "    <tr style=\"text-align: right;\">\n",
       "      <th></th>\n",
       "      <th>date</th>\n",
       "      <th>PULocationID</th>\n",
       "      <th>count</th>\n",
       "    </tr>\n",
       "  </thead>\n",
       "  <tbody>\n",
       "    <tr>\n",
       "      <th>96</th>\n",
       "      <td>2023-01-02</td>\n",
       "      <td>1</td>\n",
       "      <td>32.0</td>\n",
       "    </tr>\n",
       "    <tr>\n",
       "      <th>358</th>\n",
       "      <td>2023-01-03</td>\n",
       "      <td>1</td>\n",
       "      <td>28.0</td>\n",
       "    </tr>\n",
       "    <tr>\n",
       "      <th>620</th>\n",
       "      <td>2023-01-04</td>\n",
       "      <td>1</td>\n",
       "      <td>8.0</td>\n",
       "    </tr>\n",
       "    <tr>\n",
       "      <th>882</th>\n",
       "      <td>2023-01-05</td>\n",
       "      <td>1</td>\n",
       "      <td>16.0</td>\n",
       "    </tr>\n",
       "    <tr>\n",
       "      <th>1144</th>\n",
       "      <td>2023-01-06</td>\n",
       "      <td>1</td>\n",
       "      <td>12.0</td>\n",
       "    </tr>\n",
       "  </tbody>\n",
       "</table>\n",
       "</div>"
      ],
      "text/plain": [
       "            date  PULocationID  count\n",
       "96    2023-01-02             1   32.0\n",
       "358   2023-01-03             1   28.0\n",
       "620   2023-01-04             1    8.0\n",
       "882   2023-01-05             1   16.0\n",
       "1144  2023-01-06             1   12.0"
      ]
     },
     "execution_count": 4,
     "metadata": {},
     "output_type": "execute_result"
    }
   ],
   "source": [
    "rides_df = pd.read_parquet(LABEL_FILE_PATH)\n",
    "\n",
    "print(rides_df.shape)\n",
    "rides_df.head()"
   ]
  },
  {
   "cell_type": "markdown",
   "metadata": {
    "collapsed": false,
    "pycharm": {
     "name": "#%% md\n"
    }
   },
   "source": [
    " ### Add Arima"
   ]
  },
  {
   "cell_type": "code",
   "execution_count": 5,
   "metadata": {
    "collapsed": false,
    "pycharm": {
     "name": "#%%\n"
    }
   },
   "outputs": [
    {
     "data": {
      "text/html": [
       "<div>\n",
       "<style scoped>\n",
       "    .dataframe tbody tr th:only-of-type {\n",
       "        vertical-align: middle;\n",
       "    }\n",
       "\n",
       "    .dataframe tbody tr th {\n",
       "        vertical-align: top;\n",
       "    }\n",
       "\n",
       "    .dataframe thead th {\n",
       "        text-align: right;\n",
       "    }\n",
       "</style>\n",
       "<table border=\"1\" class=\"dataframe\">\n",
       "  <thead>\n",
       "    <tr style=\"text-align: right;\">\n",
       "      <th></th>\n",
       "      <th>date</th>\n",
       "      <th>PULocationID</th>\n",
       "      <th>count</th>\n",
       "      <th>arima</th>\n",
       "    </tr>\n",
       "  </thead>\n",
       "  <tbody>\n",
       "    <tr>\n",
       "      <th>0</th>\n",
       "      <td>2023-01-02</td>\n",
       "      <td>1</td>\n",
       "      <td>32.0</td>\n",
       "      <td>13</td>\n",
       "    </tr>\n",
       "    <tr>\n",
       "      <th>1</th>\n",
       "      <td>2023-01-03</td>\n",
       "      <td>1</td>\n",
       "      <td>28.0</td>\n",
       "      <td>18</td>\n",
       "    </tr>\n",
       "    <tr>\n",
       "      <th>2</th>\n",
       "      <td>2023-01-04</td>\n",
       "      <td>1</td>\n",
       "      <td>8.0</td>\n",
       "      <td>17</td>\n",
       "    </tr>\n",
       "    <tr>\n",
       "      <th>3</th>\n",
       "      <td>2023-01-05</td>\n",
       "      <td>1</td>\n",
       "      <td>16.0</td>\n",
       "      <td>11</td>\n",
       "    </tr>\n",
       "    <tr>\n",
       "      <th>4</th>\n",
       "      <td>2023-01-06</td>\n",
       "      <td>1</td>\n",
       "      <td>12.0</td>\n",
       "      <td>13</td>\n",
       "    </tr>\n",
       "  </tbody>\n",
       "</table>\n",
       "</div>"
      ],
      "text/plain": [
       "         date  PULocationID  count  arima\n",
       "0  2023-01-02             1   32.0     13\n",
       "1  2023-01-03             1   28.0     18\n",
       "2  2023-01-04             1    8.0     17\n",
       "3  2023-01-05             1   16.0     11\n",
       "4  2023-01-06             1   12.0     13"
      ]
     },
     "execution_count": 5,
     "metadata": {},
     "output_type": "execute_result"
    }
   ],
   "source": [
    "def load_arima(file_paths):\n",
    "    df=pd.read_excel(file_paths,index_col=0)\n",
    "    df=df.rename({'pred':'arima'},axis=1)\n",
    "    df.drop('count',axis=1,inplace=True)\n",
    "\n",
    "    return df\n",
    "arima_df=load_arima(ARIMA_PATH)\n",
    "rides_df=pd.merge(rides_df,arima_df,on=['date','PULocationID'])\n",
    "rides_df.head()"
   ]
  },
  {
   "cell_type": "markdown",
   "metadata": {
    "collapsed": false,
    "pycharm": {
     "name": "#%% md\n"
    }
   },
   "source": [
    "### adding calender features"
   ]
  },
  {
   "cell_type": "code",
   "execution_count": 6,
   "metadata": {
    "collapsed": false,
    "pycharm": {
     "name": "#%%\n"
    }
   },
   "outputs": [
    {
     "name": "stdout",
     "output_type": "stream",
     "text": [
      "(28296, 13)\n"
     ]
    },
    {
     "data": {
      "text/html": [
       "<div>\n",
       "<style scoped>\n",
       "    .dataframe tbody tr th:only-of-type {\n",
       "        vertical-align: middle;\n",
       "    }\n",
       "\n",
       "    .dataframe tbody tr th {\n",
       "        vertical-align: top;\n",
       "    }\n",
       "\n",
       "    .dataframe thead th {\n",
       "        text-align: right;\n",
       "    }\n",
       "</style>\n",
       "<table border=\"1\" class=\"dataframe\">\n",
       "  <thead>\n",
       "    <tr style=\"text-align: right;\">\n",
       "      <th></th>\n",
       "      <th>date</th>\n",
       "      <th>PULocationID</th>\n",
       "      <th>arima</th>\n",
       "      <th>PU_day_of_month</th>\n",
       "      <th>week_of_month</th>\n",
       "      <th>PU_day_of_week</th>\n",
       "      <th>last_day_demand</th>\n",
       "      <th>last_week_demand</th>\n",
       "      <th>lag1-8</th>\n",
       "      <th>lag2-9</th>\n",
       "      <th>lag3-10</th>\n",
       "      <th>lag4-11</th>\n",
       "      <th>label</th>\n",
       "    </tr>\n",
       "  </thead>\n",
       "  <tbody>\n",
       "    <tr>\n",
       "      <th>11</th>\n",
       "      <td>2023-01-13</td>\n",
       "      <td>1</td>\n",
       "      <td>0.916667</td>\n",
       "      <td>13</td>\n",
       "      <td>2</td>\n",
       "      <td>4</td>\n",
       "      <td>9.0</td>\n",
       "      <td>12.0</td>\n",
       "      <td>0.562500</td>\n",
       "      <td>1.250000</td>\n",
       "      <td>0.178571</td>\n",
       "      <td>0.468750</td>\n",
       "      <td>1.833333</td>\n",
       "    </tr>\n",
       "    <tr>\n",
       "      <th>12</th>\n",
       "      <td>2023-01-14</td>\n",
       "      <td>1</td>\n",
       "      <td>2.142857</td>\n",
       "      <td>14</td>\n",
       "      <td>2</td>\n",
       "      <td>5</td>\n",
       "      <td>22.0</td>\n",
       "      <td>7.0</td>\n",
       "      <td>1.833333</td>\n",
       "      <td>0.562500</td>\n",
       "      <td>1.250000</td>\n",
       "      <td>0.178571</td>\n",
       "      <td>1.142857</td>\n",
       "    </tr>\n",
       "    <tr>\n",
       "      <th>13</th>\n",
       "      <td>2023-01-15</td>\n",
       "      <td>1</td>\n",
       "      <td>0.846154</td>\n",
       "      <td>15</td>\n",
       "      <td>3</td>\n",
       "      <td>6</td>\n",
       "      <td>8.0</td>\n",
       "      <td>13.0</td>\n",
       "      <td>1.142857</td>\n",
       "      <td>1.833333</td>\n",
       "      <td>0.562500</td>\n",
       "      <td>1.250000</td>\n",
       "      <td>1.538462</td>\n",
       "    </tr>\n",
       "    <tr>\n",
       "      <th>14</th>\n",
       "      <td>2023-01-16</td>\n",
       "      <td>1</td>\n",
       "      <td>1.000000</td>\n",
       "      <td>16</td>\n",
       "      <td>3</td>\n",
       "      <td>0</td>\n",
       "      <td>20.0</td>\n",
       "      <td>15.0</td>\n",
       "      <td>1.538462</td>\n",
       "      <td>1.142857</td>\n",
       "      <td>1.833333</td>\n",
       "      <td>0.562500</td>\n",
       "      <td>1.466667</td>\n",
       "    </tr>\n",
       "    <tr>\n",
       "      <th>15</th>\n",
       "      <td>2023-01-17</td>\n",
       "      <td>1</td>\n",
       "      <td>3.000000</td>\n",
       "      <td>17</td>\n",
       "      <td>3</td>\n",
       "      <td>1</td>\n",
       "      <td>22.0</td>\n",
       "      <td>5.0</td>\n",
       "      <td>1.466667</td>\n",
       "      <td>1.538462</td>\n",
       "      <td>1.142857</td>\n",
       "      <td>1.833333</td>\n",
       "      <td>3.800000</td>\n",
       "    </tr>\n",
       "  </tbody>\n",
       "</table>\n",
       "</div>"
      ],
      "text/plain": [
       "         date  PULocationID     arima  PU_day_of_month  week_of_month  \\\n",
       "11 2023-01-13             1  0.916667               13              2   \n",
       "12 2023-01-14             1  2.142857               14              2   \n",
       "13 2023-01-15             1  0.846154               15              3   \n",
       "14 2023-01-16             1  1.000000               16              3   \n",
       "15 2023-01-17             1  3.000000               17              3   \n",
       "\n",
       "    PU_day_of_week  last_day_demand  last_week_demand    lag1-8    lag2-9  \\\n",
       "11               4              9.0              12.0  0.562500  1.250000   \n",
       "12               5             22.0               7.0  1.833333  0.562500   \n",
       "13               6              8.0              13.0  1.142857  1.833333   \n",
       "14               0             20.0              15.0  1.538462  1.142857   \n",
       "15               1             22.0               5.0  1.466667  1.538462   \n",
       "\n",
       "     lag3-10   lag4-11     label  \n",
       "11  0.178571  0.468750  1.833333  \n",
       "12  1.250000  0.178571  1.142857  \n",
       "13  0.562500  1.250000  1.538462  \n",
       "14  1.833333  0.562500  1.466667  \n",
       "15  1.142857  1.833333  3.800000  "
      ]
     },
     "execution_count": 6,
     "metadata": {},
     "output_type": "execute_result"
    }
   ],
   "source": [
    "def adding_feature(rides_df: pd.DataFrame):\n",
    "    df = rides_df.copy()\n",
    "    df['date'] = df['date'].astype('datetime64')\n",
    "    df['PU_day_of_month'] = df['date'].dt.day.astype(np.uint8)\n",
    "    df['week_of_month'] = df['date'].apply(lambda x: (x.day - 1) // 7 + 1)\n",
    "    df['PU_day_of_week'] = df['date'].dt.weekday.astype(np.uint8)\n",
    "    df.sort_values(by=['PULocationID', 'date'], inplace=True)\n",
    "    df['last_day_demand'] = df.groupby(['PULocationID'])['count'].shift(1)\n",
    "    df['last_week_demand'] = df.groupby(['PULocationID'])['count'].shift(7)\n",
    "\n",
    "    for i in range(1,5):\n",
    "        df[f'lag{i}-{i + 7}'] = (df.groupby(['PULocationID'])['count'].shift(i))/(df.groupby(['PULocationID'])['count'].shift(i + 7))\n",
    "    df.dropna(inplace=True)\n",
    "    df['arima'] = df['arima'] / df['last_week_demand']\n",
    "    df['label'] = df['count'] / df['last_week_demand']\n",
    "    df.drop(['count'], axis=1, inplace=True)\n",
    "    return df\n",
    "\n",
    "featured_df = adding_feature(rides_df)\n",
    "print(featured_df.shape)\n",
    "featured_df.head()"
   ]
  },
  {
   "cell_type": "markdown",
   "metadata": {
    "collapsed": false,
    "pycharm": {
     "name": "#%% md\n"
    }
   },
   "source": [
    "### checking one week of data as a sample"
   ]
  },
  {
   "cell_type": "code",
   "execution_count": 7,
   "metadata": {
    "collapsed": false,
    "pycharm": {
     "name": "#%%\n"
    }
   },
   "outputs": [
    {
     "data": {
      "text/html": [
       "<div>\n",
       "<style scoped>\n",
       "    .dataframe tbody tr th:only-of-type {\n",
       "        vertical-align: middle;\n",
       "    }\n",
       "\n",
       "    .dataframe tbody tr th {\n",
       "        vertical-align: top;\n",
       "    }\n",
       "\n",
       "    .dataframe thead th {\n",
       "        text-align: right;\n",
       "    }\n",
       "</style>\n",
       "<table border=\"1\" class=\"dataframe\">\n",
       "  <thead>\n",
       "    <tr style=\"text-align: right;\">\n",
       "      <th></th>\n",
       "      <th>date</th>\n",
       "      <th>PULocationID</th>\n",
       "      <th>arima</th>\n",
       "      <th>PU_day_of_month</th>\n",
       "      <th>week_of_month</th>\n",
       "      <th>PU_day_of_week</th>\n",
       "      <th>last_day_demand</th>\n",
       "      <th>last_week_demand</th>\n",
       "      <th>lag1-8</th>\n",
       "      <th>lag2-9</th>\n",
       "      <th>lag3-10</th>\n",
       "      <th>lag4-11</th>\n",
       "      <th>label</th>\n",
       "    </tr>\n",
       "  </thead>\n",
       "  <tbody>\n",
       "    <tr>\n",
       "      <th>9393</th>\n",
       "      <td>2023-04-23</td>\n",
       "      <td>79</td>\n",
       "      <td>0.979427</td>\n",
       "      <td>23</td>\n",
       "      <td>4</td>\n",
       "      <td>6</td>\n",
       "      <td>4642.0</td>\n",
       "      <td>3597.0</td>\n",
       "      <td>0.929515</td>\n",
       "      <td>0.974787</td>\n",
       "      <td>1.005702</td>\n",
       "      <td>0.986155</td>\n",
       "      <td>0.862663</td>\n",
       "    </tr>\n",
       "    <tr>\n",
       "      <th>9394</th>\n",
       "      <td>2023-04-24</td>\n",
       "      <td>79</td>\n",
       "      <td>0.945385</td>\n",
       "      <td>24</td>\n",
       "      <td>4</td>\n",
       "      <td>0</td>\n",
       "      <td>3103.0</td>\n",
       "      <td>1300.0</td>\n",
       "      <td>0.862663</td>\n",
       "      <td>0.929515</td>\n",
       "      <td>0.974787</td>\n",
       "      <td>1.005702</td>\n",
       "      <td>1.093846</td>\n",
       "    </tr>\n",
       "    <tr>\n",
       "      <th>9395</th>\n",
       "      <td>2023-04-25</td>\n",
       "      <td>79</td>\n",
       "      <td>1.097708</td>\n",
       "      <td>25</td>\n",
       "      <td>4</td>\n",
       "      <td>1</td>\n",
       "      <td>1422.0</td>\n",
       "      <td>1658.0</td>\n",
       "      <td>1.093846</td>\n",
       "      <td>0.862663</td>\n",
       "      <td>0.929515</td>\n",
       "      <td>0.974787</td>\n",
       "      <td>1.012063</td>\n",
       "    </tr>\n",
       "    <tr>\n",
       "      <th>9396</th>\n",
       "      <td>2023-04-26</td>\n",
       "      <td>79</td>\n",
       "      <td>1.007559</td>\n",
       "      <td>26</td>\n",
       "      <td>4</td>\n",
       "      <td>2</td>\n",
       "      <td>1678.0</td>\n",
       "      <td>1852.0</td>\n",
       "      <td>1.012063</td>\n",
       "      <td>1.093846</td>\n",
       "      <td>0.862663</td>\n",
       "      <td>0.929515</td>\n",
       "      <td>1.086933</td>\n",
       "    </tr>\n",
       "    <tr>\n",
       "      <th>9397</th>\n",
       "      <td>2023-04-27</td>\n",
       "      <td>79</td>\n",
       "      <td>1.025730</td>\n",
       "      <td>27</td>\n",
       "      <td>4</td>\n",
       "      <td>3</td>\n",
       "      <td>2013.0</td>\n",
       "      <td>2293.0</td>\n",
       "      <td>1.086933</td>\n",
       "      <td>1.012063</td>\n",
       "      <td>1.093846</td>\n",
       "      <td>0.862663</td>\n",
       "      <td>0.986044</td>\n",
       "    </tr>\n",
       "    <tr>\n",
       "      <th>9398</th>\n",
       "      <td>2023-04-28</td>\n",
       "      <td>79</td>\n",
       "      <td>1.013436</td>\n",
       "      <td>28</td>\n",
       "      <td>4</td>\n",
       "      <td>4</td>\n",
       "      <td>2261.0</td>\n",
       "      <td>2977.0</td>\n",
       "      <td>0.986044</td>\n",
       "      <td>1.086933</td>\n",
       "      <td>1.012063</td>\n",
       "      <td>1.093846</td>\n",
       "      <td>1.056769</td>\n",
       "    </tr>\n",
       "    <tr>\n",
       "      <th>9399</th>\n",
       "      <td>2023-04-29</td>\n",
       "      <td>79</td>\n",
       "      <td>0.984489</td>\n",
       "      <td>29</td>\n",
       "      <td>5</td>\n",
       "      <td>5</td>\n",
       "      <td>3146.0</td>\n",
       "      <td>4642.0</td>\n",
       "      <td>1.056769</td>\n",
       "      <td>0.986044</td>\n",
       "      <td>1.086933</td>\n",
       "      <td>1.012063</td>\n",
       "      <td>0.987075</td>\n",
       "    </tr>\n",
       "    <tr>\n",
       "      <th>9400</th>\n",
       "      <td>2023-04-30</td>\n",
       "      <td>79</td>\n",
       "      <td>1.000322</td>\n",
       "      <td>30</td>\n",
       "      <td>5</td>\n",
       "      <td>6</td>\n",
       "      <td>4582.0</td>\n",
       "      <td>3103.0</td>\n",
       "      <td>0.987075</td>\n",
       "      <td>1.056769</td>\n",
       "      <td>0.986044</td>\n",
       "      <td>1.086933</td>\n",
       "      <td>1.079600</td>\n",
       "    </tr>\n",
       "  </tbody>\n",
       "</table>\n",
       "</div>"
      ],
      "text/plain": [
       "           date  PULocationID     arima  PU_day_of_month  week_of_month  \\\n",
       "9393 2023-04-23            79  0.979427               23              4   \n",
       "9394 2023-04-24            79  0.945385               24              4   \n",
       "9395 2023-04-25            79  1.097708               25              4   \n",
       "9396 2023-04-26            79  1.007559               26              4   \n",
       "9397 2023-04-27            79  1.025730               27              4   \n",
       "9398 2023-04-28            79  1.013436               28              4   \n",
       "9399 2023-04-29            79  0.984489               29              5   \n",
       "9400 2023-04-30            79  1.000322               30              5   \n",
       "\n",
       "      PU_day_of_week  last_day_demand  last_week_demand    lag1-8    lag2-9  \\\n",
       "9393               6           4642.0            3597.0  0.929515  0.974787   \n",
       "9394               0           3103.0            1300.0  0.862663  0.929515   \n",
       "9395               1           1422.0            1658.0  1.093846  0.862663   \n",
       "9396               2           1678.0            1852.0  1.012063  1.093846   \n",
       "9397               3           2013.0            2293.0  1.086933  1.012063   \n",
       "9398               4           2261.0            2977.0  0.986044  1.086933   \n",
       "9399               5           3146.0            4642.0  1.056769  0.986044   \n",
       "9400               6           4582.0            3103.0  0.987075  1.056769   \n",
       "\n",
       "       lag3-10   lag4-11     label  \n",
       "9393  1.005702  0.986155  0.862663  \n",
       "9394  0.974787  1.005702  1.093846  \n",
       "9395  0.929515  0.974787  1.012063  \n",
       "9396  0.862663  0.929515  1.086933  \n",
       "9397  1.093846  0.862663  0.986044  \n",
       "9398  1.012063  1.093846  1.056769  \n",
       "9399  1.086933  1.012063  0.987075  \n",
       "9400  0.986044  1.086933  1.079600  "
      ]
     },
     "execution_count": 7,
     "metadata": {},
     "output_type": "execute_result"
    }
   ],
   "source": [
    "featured_df[(featured_df['PULocationID'] == 79)].tail(8)"
   ]
  },
  {
   "cell_type": "markdown",
   "metadata": {
    "collapsed": false,
    "pycharm": {
     "name": "#%% md\n"
    }
   },
   "source": [
    "### save result"
   ]
  },
  {
   "cell_type": "code",
   "execution_count": 28,
   "metadata": {
    "id": "sk32WEWjpVdB",
    "pycharm": {
     "name": "#%%\n"
    }
   },
   "outputs": [],
   "source": [
    "featured_df.to_parquet(OUTPUT_PATH)"
   ]
  },
  {
   "cell_type": "code",
   "execution_count": null,
   "metadata": {},
   "outputs": [],
   "source": []
  }
 ],
 "metadata": {
  "colab": {
   "provenance": []
  },
  "kernelspec": {
   "display_name": "Python 3",
   "language": "python",
   "name": "python3"
  },
  "language_info": {
   "codemirror_mode": {
    "name": "ipython",
    "version": 3
   },
   "file_extension": ".py",
   "mimetype": "text/x-python",
   "name": "python",
   "nbconvert_exporter": "python",
   "pygments_lexer": "ipython3",
   "version": "3.8.2"
  }
 },
 "nbformat": 4,
 "nbformat_minor": 1
}
