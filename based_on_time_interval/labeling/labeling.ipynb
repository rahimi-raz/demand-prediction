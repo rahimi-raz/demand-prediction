{
 "cells": [
  {
   "cell_type": "markdown",
   "metadata": {},
   "source": [
    "### Import modules"
   ]
  },
  {
   "cell_type": "code",
   "execution_count": 1,
   "metadata": {
    "collapsed": false,
    "jupyter": {
     "outputs_hidden": false
    },
    "pycharm": {
     "name": "#%%\n"
    }
   },
   "outputs": [],
   "source": [
    "import pandas as pd\n",
    "from itertools import product"
   ]
  },
  {
   "cell_type": "markdown",
   "metadata": {
    "tags": []
   },
   "source": [
    "### Config"
   ]
  },
  {
   "cell_type": "code",
   "execution_count": 2,
   "metadata": {},
   "outputs": [],
   "source": [
    "DATA_FILE_PATHS = '/workspace/rahnemacollege/Project/Git/demand-prediction/data/input/'\n",
    "\n",
    "OUTPUT_PATH_LABELING = '/workspace/rahnemacollege/Project/Git/demand-prediction/data/label/label_p2.parquet'\n",
    "\n",
    "start_date = '2023-01-01'\n",
    "end_date = '2023-05-01'"
   ]
  },
  {
   "cell_type": "markdown",
   "metadata": {
    "pycharm": {
     "name": "#%% md\n"
    },
    "tags": []
   },
   "source": [
    "### Load data"
   ]
  },
  {
   "cell_type": "code",
   "execution_count": 3,
   "metadata": {
    "collapsed": false,
    "jupyter": {
     "outputs_hidden": false
    },
    "pycharm": {
     "name": "#%%\n"
    }
   },
   "outputs": [
    {
     "name": "stdout",
     "output_type": "stream",
     "text": [
      "(12672629, 22)\n"
     ]
    },
    {
     "data": {
      "text/html": [
       "<div>\n",
       "<style scoped>\n",
       "    .dataframe tbody tr th:only-of-type {\n",
       "        vertical-align: middle;\n",
       "    }\n",
       "\n",
       "    .dataframe tbody tr th {\n",
       "        vertical-align: top;\n",
       "    }\n",
       "\n",
       "    .dataframe thead th {\n",
       "        text-align: right;\n",
       "    }\n",
       "</style>\n",
       "<table border=\"1\" class=\"dataframe\">\n",
       "  <thead>\n",
       "    <tr style=\"text-align: right;\">\n",
       "      <th></th>\n",
       "      <th>VendorID</th>\n",
       "      <th>tpep_pickup_datetime</th>\n",
       "      <th>tpep_dropoff_datetime</th>\n",
       "      <th>passenger_count</th>\n",
       "      <th>trip_distance</th>\n",
       "      <th>RatecodeID</th>\n",
       "      <th>store_and_fwd_flag</th>\n",
       "      <th>PULocationID</th>\n",
       "      <th>DOLocationID</th>\n",
       "      <th>payment_type</th>\n",
       "      <th>...</th>\n",
       "      <th>mta_tax</th>\n",
       "      <th>tip_amount</th>\n",
       "      <th>tolls_amount</th>\n",
       "      <th>improvement_surcharge</th>\n",
       "      <th>total_amount</th>\n",
       "      <th>congestion_surcharge</th>\n",
       "      <th>airport_fee</th>\n",
       "      <th>date</th>\n",
       "      <th>time_interval</th>\n",
       "      <th>time_interval_number</th>\n",
       "    </tr>\n",
       "  </thead>\n",
       "  <tbody>\n",
       "    <tr>\n",
       "      <th>0</th>\n",
       "      <td>2</td>\n",
       "      <td>2023-01-01 00:32:10</td>\n",
       "      <td>2023-01-01 00:40:36</td>\n",
       "      <td>1.0</td>\n",
       "      <td>0.97</td>\n",
       "      <td>1.0</td>\n",
       "      <td>N</td>\n",
       "      <td>161</td>\n",
       "      <td>141</td>\n",
       "      <td>2</td>\n",
       "      <td>...</td>\n",
       "      <td>0.5</td>\n",
       "      <td>0.00</td>\n",
       "      <td>0.00</td>\n",
       "      <td>1.0</td>\n",
       "      <td>14.30</td>\n",
       "      <td>2.5</td>\n",
       "      <td>0.00</td>\n",
       "      <td>2023-01-01</td>\n",
       "      <td>00:00:00 - 03:00:00</td>\n",
       "      <td>1</td>\n",
       "    </tr>\n",
       "    <tr>\n",
       "      <th>1</th>\n",
       "      <td>1</td>\n",
       "      <td>2023-01-01 16:18:55</td>\n",
       "      <td>2023-01-01 16:26:09</td>\n",
       "      <td>3.0</td>\n",
       "      <td>0.00</td>\n",
       "      <td>1.0</td>\n",
       "      <td>N</td>\n",
       "      <td>107</td>\n",
       "      <td>90</td>\n",
       "      <td>1</td>\n",
       "      <td>...</td>\n",
       "      <td>0.5</td>\n",
       "      <td>2.10</td>\n",
       "      <td>0.00</td>\n",
       "      <td>1.0</td>\n",
       "      <td>12.60</td>\n",
       "      <td>2.5</td>\n",
       "      <td>0.00</td>\n",
       "      <td>2023-01-01</td>\n",
       "      <td>15:00:00 - 18:00:00</td>\n",
       "      <td>6</td>\n",
       "    </tr>\n",
       "    <tr>\n",
       "      <th>2</th>\n",
       "      <td>2</td>\n",
       "      <td>2023-01-01 16:59:08</td>\n",
       "      <td>2023-01-01 17:41:59</td>\n",
       "      <td>1.0</td>\n",
       "      <td>19.82</td>\n",
       "      <td>2.0</td>\n",
       "      <td>N</td>\n",
       "      <td>132</td>\n",
       "      <td>238</td>\n",
       "      <td>1</td>\n",
       "      <td>...</td>\n",
       "      <td>0.5</td>\n",
       "      <td>16.36</td>\n",
       "      <td>6.55</td>\n",
       "      <td>1.0</td>\n",
       "      <td>98.16</td>\n",
       "      <td>2.5</td>\n",
       "      <td>1.25</td>\n",
       "      <td>2023-01-01</td>\n",
       "      <td>15:00:00 - 18:00:00</td>\n",
       "      <td>6</td>\n",
       "    </tr>\n",
       "    <tr>\n",
       "      <th>3</th>\n",
       "      <td>2</td>\n",
       "      <td>2023-01-01 16:29:59</td>\n",
       "      <td>2023-01-01 16:59:01</td>\n",
       "      <td>1.0</td>\n",
       "      <td>9.36</td>\n",
       "      <td>1.0</td>\n",
       "      <td>N</td>\n",
       "      <td>138</td>\n",
       "      <td>68</td>\n",
       "      <td>1</td>\n",
       "      <td>...</td>\n",
       "      <td>0.5</td>\n",
       "      <td>11.80</td>\n",
       "      <td>6.55</td>\n",
       "      <td>1.0</td>\n",
       "      <td>70.80</td>\n",
       "      <td>2.5</td>\n",
       "      <td>1.25</td>\n",
       "      <td>2023-01-01</td>\n",
       "      <td>15:00:00 - 18:00:00</td>\n",
       "      <td>6</td>\n",
       "    </tr>\n",
       "    <tr>\n",
       "      <th>4</th>\n",
       "      <td>2</td>\n",
       "      <td>2023-01-01 16:35:44</td>\n",
       "      <td>2023-01-01 16:53:56</td>\n",
       "      <td>2.0</td>\n",
       "      <td>3.18</td>\n",
       "      <td>1.0</td>\n",
       "      <td>N</td>\n",
       "      <td>114</td>\n",
       "      <td>162</td>\n",
       "      <td>1</td>\n",
       "      <td>...</td>\n",
       "      <td>0.5</td>\n",
       "      <td>4.76</td>\n",
       "      <td>0.00</td>\n",
       "      <td>1.0</td>\n",
       "      <td>28.56</td>\n",
       "      <td>2.5</td>\n",
       "      <td>0.00</td>\n",
       "      <td>2023-01-01</td>\n",
       "      <td>15:00:00 - 18:00:00</td>\n",
       "      <td>6</td>\n",
       "    </tr>\n",
       "  </tbody>\n",
       "</table>\n",
       "<p>5 rows × 22 columns</p>\n",
       "</div>"
      ],
      "text/plain": [
       "   VendorID tpep_pickup_datetime tpep_dropoff_datetime  passenger_count  \\\n",
       "0         2  2023-01-01 00:32:10   2023-01-01 00:40:36              1.0   \n",
       "1         1  2023-01-01 16:18:55   2023-01-01 16:26:09              3.0   \n",
       "2         2  2023-01-01 16:59:08   2023-01-01 17:41:59              1.0   \n",
       "3         2  2023-01-01 16:29:59   2023-01-01 16:59:01              1.0   \n",
       "4         2  2023-01-01 16:35:44   2023-01-01 16:53:56              2.0   \n",
       "\n",
       "   trip_distance  RatecodeID store_and_fwd_flag  PULocationID  DOLocationID  \\\n",
       "0           0.97         1.0                  N           161           141   \n",
       "1           0.00         1.0                  N           107            90   \n",
       "2          19.82         2.0                  N           132           238   \n",
       "3           9.36         1.0                  N           138            68   \n",
       "4           3.18         1.0                  N           114           162   \n",
       "\n",
       "   payment_type  ...  mta_tax  tip_amount  tolls_amount  \\\n",
       "0             2  ...      0.5        0.00          0.00   \n",
       "1             1  ...      0.5        2.10          0.00   \n",
       "2             1  ...      0.5       16.36          6.55   \n",
       "3             1  ...      0.5       11.80          6.55   \n",
       "4             1  ...      0.5        4.76          0.00   \n",
       "\n",
       "   improvement_surcharge  total_amount  congestion_surcharge  airport_fee  \\\n",
       "0                    1.0         14.30                   2.5         0.00   \n",
       "1                    1.0         12.60                   2.5         0.00   \n",
       "2                    1.0         98.16                   2.5         1.25   \n",
       "3                    1.0         70.80                   2.5         1.25   \n",
       "4                    1.0         28.56                   2.5         0.00   \n",
       "\n",
       "         date        time_interval time_interval_number  \n",
       "0  2023-01-01  00:00:00 - 03:00:00                    1  \n",
       "1  2023-01-01  15:00:00 - 18:00:00                    6  \n",
       "2  2023-01-01  15:00:00 - 18:00:00                    6  \n",
       "3  2023-01-01  15:00:00 - 18:00:00                    6  \n",
       "4  2023-01-01  15:00:00 - 18:00:00                    6  \n",
       "\n",
       "[5 rows x 22 columns]"
      ]
     },
     "execution_count": 3,
     "metadata": {},
     "output_type": "execute_result"
    }
   ],
   "source": [
    "def load_data(file_paths, start_date=None, end_date=None):\n",
    "    df = pd.read_parquet(file_paths)\n",
    "    df['date'] = df['tpep_pickup_datetime'].dt.date.astype(str)\n",
    "\n",
    "    if start_date:\n",
    "        if end_date:\n",
    "            df = df[(df['date'] >= start_date) & (\n",
    "                df['date'] < end_date)]\n",
    "        else:\n",
    "            df = df[df['date'] > start_date].reset_index(drop=True)\n",
    "    # Sort the DataFrame based on the 'tpep_pickup_datetime' column in ascending order\n",
    "    df = df.sort_values(by='date')\n",
    "    df = df.reset_index(drop=True)\n",
    "\n",
    "    # Calculate the start time of each interval\n",
    "    df['interval_start'] = df['tpep_pickup_datetime'].dt.floor('3H')\n",
    "\n",
    "    # Calculate the end time of each interval\n",
    "    df['interval_end'] = df['interval_start'] + pd.Timedelta(hours=3)\n",
    "\n",
    "    # Create a new column with the time interval in the desired format\n",
    "    df['time_interval'] = df['interval_start'].dt.strftime(\n",
    "        '%H:%M:%S') + ' - ' + df['interval_end'].dt.strftime('%H:%M:%S')\n",
    "\n",
    "    # Drop 'interval_start' and 'interval_end' columns\n",
    "    df.drop(columns=['interval_start', 'interval_end'], inplace=True)\n",
    "\n",
    "    # Create bins for interval numbers from 1 to 8\n",
    "    df['time_interval_number'] = pd.cut(\n",
    "        df['tpep_pickup_datetime'].dt.hour, bins=8, labels=range(1, 9), right=False)\n",
    "\n",
    "    return df\n",
    "\n",
    "\n",
    "rides_df = load_data(DATA_FILE_PATHS, start_date, end_date)\n",
    "print(rides_df.shape)\n",
    "rides_df.head()"
   ]
  },
  {
   "cell_type": "markdown",
   "metadata": {
    "tags": []
   },
   "source": [
    "## Labeling"
   ]
  },
  {
   "cell_type": "markdown",
   "metadata": {
    "pycharm": {
     "name": "#%% md\n"
    },
    "tags": []
   },
   "source": [
    "### Aggregate data and labeling"
   ]
  },
  {
   "cell_type": "code",
   "execution_count": 4,
   "metadata": {},
   "outputs": [],
   "source": [
    "def labeling_by_interval(rides_df: pd.DataFrame):\n",
    "    aggregated_df = rides_df.groupby(\n",
    "        ['date', 'time_interval_number', 'PULocationID']).size().reset_index(name='count')\n",
    "    unique_dates = rides_df['date'].unique()\n",
    "    unique_interval = rides_df['time_interval_number'].unique()\n",
    "    unique_pu_location_ids = rides_df['PULocationID'].unique()\n",
    "    all_combinations = list(\n",
    "        product(unique_dates, unique_interval, unique_pu_location_ids))\n",
    "    combinations_df = pd.DataFrame(all_combinations, columns=[\n",
    "                                   'date', 'time_interval_number', 'PULocationID'])\n",
    "    label_df = aggregated_df.merge(combinations_df, how='right', on=[\n",
    "                                   'date', 'time_interval_number', 'PULocationID']).fillna(0)\n",
    "    # Sort based on two columns: 'time_interval_number' (ascending) and 'date' (ascending)\n",
    "    label_df = label_df.sort_values(\n",
    "        by=['date', 'time_interval_number'], ascending=[True, True])\n",
    "    return label_df"
   ]
  },
  {
   "cell_type": "code",
   "execution_count": 5,
   "metadata": {},
   "outputs": [
    {
     "name": "stdout",
     "output_type": "stream",
     "text": [
      "(251520, 4)\n"
     ]
    },
    {
     "data": {
      "text/html": [
       "<div>\n",
       "<style scoped>\n",
       "    .dataframe tbody tr th:only-of-type {\n",
       "        vertical-align: middle;\n",
       "    }\n",
       "\n",
       "    .dataframe tbody tr th {\n",
       "        vertical-align: top;\n",
       "    }\n",
       "\n",
       "    .dataframe thead th {\n",
       "        text-align: right;\n",
       "    }\n",
       "</style>\n",
       "<table border=\"1\" class=\"dataframe\">\n",
       "  <thead>\n",
       "    <tr style=\"text-align: right;\">\n",
       "      <th></th>\n",
       "      <th>date</th>\n",
       "      <th>time_interval_number</th>\n",
       "      <th>PULocationID</th>\n",
       "      <th>count</th>\n",
       "    </tr>\n",
       "  </thead>\n",
       "  <tbody>\n",
       "    <tr>\n",
       "      <th>0</th>\n",
       "      <td>2023-01-01</td>\n",
       "      <td>1</td>\n",
       "      <td>161</td>\n",
       "      <td>504</td>\n",
       "    </tr>\n",
       "    <tr>\n",
       "      <th>1</th>\n",
       "      <td>2023-01-01</td>\n",
       "      <td>1</td>\n",
       "      <td>107</td>\n",
       "      <td>604</td>\n",
       "    </tr>\n",
       "    <tr>\n",
       "      <th>2</th>\n",
       "      <td>2023-01-01</td>\n",
       "      <td>1</td>\n",
       "      <td>132</td>\n",
       "      <td>389</td>\n",
       "    </tr>\n",
       "    <tr>\n",
       "      <th>3</th>\n",
       "      <td>2023-01-01</td>\n",
       "      <td>1</td>\n",
       "      <td>138</td>\n",
       "      <td>42</td>\n",
       "    </tr>\n",
       "    <tr>\n",
       "      <th>4</th>\n",
       "      <td>2023-01-01</td>\n",
       "      <td>1</td>\n",
       "      <td>114</td>\n",
       "      <td>205</td>\n",
       "    </tr>\n",
       "  </tbody>\n",
       "</table>\n",
       "</div>"
      ],
      "text/plain": [
       "         date  time_interval_number  PULocationID  count\n",
       "0  2023-01-01                     1           161    504\n",
       "1  2023-01-01                     1           107    604\n",
       "2  2023-01-01                     1           132    389\n",
       "3  2023-01-01                     1           138     42\n",
       "4  2023-01-01                     1           114    205"
      ]
     },
     "execution_count": 5,
     "metadata": {},
     "output_type": "execute_result"
    }
   ],
   "source": [
    "labels_time_df = labeling_by_interval(rides_df)\n",
    "print(labels_time_df.shape)\n",
    "labels_time_df.head()"
   ]
  },
  {
   "cell_type": "markdown",
   "metadata": {},
   "source": [
    "### Save labeling data"
   ]
  },
  {
   "cell_type": "code",
   "execution_count": 6,
   "metadata": {
    "collapsed": false,
    "jupyter": {
     "outputs_hidden": false
    },
    "pycharm": {
     "name": "#%%\n"
    }
   },
   "outputs": [],
   "source": [
    "labels_time_df.to_parquet(OUTPUT_PATH_LABELING)"
   ]
  }
 ],
 "metadata": {
  "kernelspec": {
   "display_name": "Python 3 (ipykernel)",
   "language": "python",
   "name": "python3"
  },
  "language_info": {
   "codemirror_mode": {
    "name": "ipython",
    "version": 3
   },
   "file_extension": ".py",
   "mimetype": "text/x-python",
   "name": "python",
   "nbconvert_exporter": "python",
   "pygments_lexer": "ipython3",
   "version": "3.8.10"
  }
 },
 "nbformat": 4,
 "nbformat_minor": 4
}
