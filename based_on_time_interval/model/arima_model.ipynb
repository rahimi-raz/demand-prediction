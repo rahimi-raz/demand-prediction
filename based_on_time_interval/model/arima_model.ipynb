{
 "cells": [
  {
   "cell_type": "markdown",
   "metadata": {},
   "source": [
    "### import modules"
   ]
  },
  {
   "cell_type": "code",
   "execution_count": 1,
   "metadata": {},
   "outputs": [],
   "source": [
    "import pandas as pd\n",
    "from statsmodels.tsa.arima.model import ARIMA\n",
    "import numpy as np"
   ]
  },
  {
   "cell_type": "markdown",
   "metadata": {},
   "source": [
    "### ignore warnings"
   ]
  },
  {
   "cell_type": "code",
   "execution_count": 2,
   "metadata": {},
   "outputs": [],
   "source": [
    "import warnings\n",
    "warnings.filterwarnings('ignore')"
   ]
  },
  {
   "cell_type": "markdown",
   "metadata": {},
   "source": [
    "### config"
   ]
  },
  {
   "cell_type": "code",
   "execution_count": 14,
   "metadata": {},
   "outputs": [],
   "source": [
    "LABEL_DATA_PATH = 'D:/projects/rahnamcollege-ml/demand-prediction/data/label/label.parquet'\n",
    "ARIMA_MODELS_PATH = 'D:/projects/rahnamcollege-ml/demand-prediction/model/arima_models/'\n",
    "OUTPUT_PATH = 'D:/projects/rahnamcollege-ml/demand-prediction/data/arima_output.xlsx'\n",
    "TRAIN_TEST_SPLIT_DATE = '2023-04-01'\n",
    "DATA_LAST_DATE = '2023-04-31'\n",
    "ADDED_PASSENGER_COUNT = 100\n",
    "HIGH_DEMAND_THRESHOLD = 1000\n",
    "\n",
    "TESTING_ARIMA_ORDERS = [\n",
    "    (4, 2, 1),\n",
    "    (5, 1, 2),\n",
    "    (4, 2, 1),\n",
    "    (1, 2, 2),\n",
    "    (6, 1, 4)\n",
    "]"
   ]
  },
  {
   "cell_type": "markdown",
   "metadata": {},
   "source": [
    "### load data"
   ]
  },
  {
   "cell_type": "code",
   "execution_count": 15,
   "metadata": {},
   "outputs": [
    {
     "name": "stdout",
     "output_type": "stream",
     "text": [
      "(31178, 3)\n"
     ]
    },
    {
     "data": {
      "text/html": [
       "<div>\n",
       "<style scoped>\n",
       "    .dataframe tbody tr th:only-of-type {\n",
       "        vertical-align: middle;\n",
       "    }\n",
       "\n",
       "    .dataframe tbody tr th {\n",
       "        vertical-align: top;\n",
       "    }\n",
       "\n",
       "    .dataframe thead th {\n",
       "        text-align: right;\n",
       "    }\n",
       "</style>\n",
       "<table border=\"1\" class=\"dataframe\">\n",
       "  <thead>\n",
       "    <tr style=\"text-align: right;\">\n",
       "      <th></th>\n",
       "      <th>date</th>\n",
       "      <th>PULocationID</th>\n",
       "      <th>count</th>\n",
       "    </tr>\n",
       "  </thead>\n",
       "  <tbody>\n",
       "    <tr>\n",
       "      <th>0</th>\n",
       "      <td>2023-01-02</td>\n",
       "      <td>70</td>\n",
       "      <td>503.0</td>\n",
       "    </tr>\n",
       "    <tr>\n",
       "      <th>1</th>\n",
       "      <td>2023-01-02</td>\n",
       "      <td>132</td>\n",
       "      <td>6419.0</td>\n",
       "    </tr>\n",
       "    <tr>\n",
       "      <th>2</th>\n",
       "      <td>2023-01-02</td>\n",
       "      <td>142</td>\n",
       "      <td>2028.0</td>\n",
       "    </tr>\n",
       "    <tr>\n",
       "      <th>3</th>\n",
       "      <td>2023-01-02</td>\n",
       "      <td>164</td>\n",
       "      <td>1462.0</td>\n",
       "    </tr>\n",
       "    <tr>\n",
       "      <th>4</th>\n",
       "      <td>2023-01-02</td>\n",
       "      <td>144</td>\n",
       "      <td>567.0</td>\n",
       "    </tr>\n",
       "  </tbody>\n",
       "</table>\n",
       "</div>"
      ],
      "text/plain": [
       "         date  PULocationID   count\n",
       "0  2023-01-02            70   503.0\n",
       "1  2023-01-02           132  6419.0\n",
       "2  2023-01-02           142  2028.0\n",
       "3  2023-01-02           164  1462.0\n",
       "4  2023-01-02           144   567.0"
      ]
     },
     "execution_count": 15,
     "metadata": {},
     "output_type": "execute_result"
    }
   ],
   "source": [
    "rides_df = pd.read_parquet(LABEL_DATA_PATH)\n",
    "rides_df = rides_df[rides_df['date'] < DATA_LAST_DATE].reset_index(drop=True)\n",
    "print(rides_df.shape)\n",
    "rides_df.head()"
   ]
  },
  {
   "cell_type": "code",
   "execution_count": null,
   "metadata": {},
   "outputs": [],
   "source": []
  },
  {
   "cell_type": "markdown",
   "metadata": {},
   "source": [
    "### prepare data"
   ]
  },
  {
   "cell_type": "code",
   "execution_count": 17,
   "metadata": {},
   "outputs": [
    {
     "name": "stdout",
     "output_type": "stream",
     "text": [
      "(23318, 3)\n"
     ]
    },
    {
     "data": {
      "text/html": [
       "<div>\n",
       "<style scoped>\n",
       "    .dataframe tbody tr th:only-of-type {\n",
       "        vertical-align: middle;\n",
       "    }\n",
       "\n",
       "    .dataframe tbody tr th {\n",
       "        vertical-align: top;\n",
       "    }\n",
       "\n",
       "    .dataframe thead th {\n",
       "        text-align: right;\n",
       "    }\n",
       "</style>\n",
       "<table border=\"1\" class=\"dataframe\">\n",
       "  <thead>\n",
       "    <tr style=\"text-align: right;\">\n",
       "      <th></th>\n",
       "      <th>date</th>\n",
       "      <th>PULocationID</th>\n",
       "      <th>count</th>\n",
       "    </tr>\n",
       "  </thead>\n",
       "  <tbody>\n",
       "    <tr>\n",
       "      <th>0</th>\n",
       "      <td>2023-01-02</td>\n",
       "      <td>70</td>\n",
       "      <td>503.0</td>\n",
       "    </tr>\n",
       "    <tr>\n",
       "      <th>1</th>\n",
       "      <td>2023-01-02</td>\n",
       "      <td>132</td>\n",
       "      <td>6419.0</td>\n",
       "    </tr>\n",
       "    <tr>\n",
       "      <th>2</th>\n",
       "      <td>2023-01-02</td>\n",
       "      <td>142</td>\n",
       "      <td>2028.0</td>\n",
       "    </tr>\n",
       "    <tr>\n",
       "      <th>3</th>\n",
       "      <td>2023-01-02</td>\n",
       "      <td>164</td>\n",
       "      <td>1462.0</td>\n",
       "    </tr>\n",
       "    <tr>\n",
       "      <th>4</th>\n",
       "      <td>2023-01-02</td>\n",
       "      <td>144</td>\n",
       "      <td>567.0</td>\n",
       "    </tr>\n",
       "  </tbody>\n",
       "</table>\n",
       "</div>"
      ],
      "text/plain": [
       "         date  PULocationID   count\n",
       "0  2023-01-02            70   503.0\n",
       "1  2023-01-02           132  6419.0\n",
       "2  2023-01-02           142  2028.0\n",
       "3  2023-01-02           164  1462.0\n",
       "4  2023-01-02           144   567.0"
      ]
     },
     "execution_count": 17,
     "metadata": {},
     "output_type": "execute_result"
    }
   ],
   "source": [
    "def train_test_split(df, split_date):\n",
    "    train_df = df[df['date'] < split_date]\n",
    "    test_df = df[df['date'] >= split_date]\n",
    "    return train_df, test_df\n",
    "\n",
    "train_df, test_df = train_test_split(rides_df, TRAIN_TEST_SPLIT_DATE)\n",
    "\n",
    "print(train_df.shape)\n",
    "train_df.head()"
   ]
  },
  {
   "cell_type": "markdown",
   "metadata": {},
   "source": [
    "### seprate locations data"
   ]
  },
  {
   "cell_type": "code",
   "execution_count": 18,
   "metadata": {},
   "outputs": [],
   "source": [
    "train_location_dfs = {}\n",
    "test_location_dfs = {}\n",
    "\n",
    "\n",
    "location_ids = train_df['PULocationID'].unique()\n",
    "\n",
    "for location_id in location_ids:\n",
    "    train_location_dfs[location_id] = train_df[\n",
    "        train_df['PULocationID'] == location_id].sort_values(by=['date']).reset_index(drop=True)\n",
    "    \n",
    "    test_location_dfs[location_id] = test_df[\n",
    "        test_df['PULocationID'] == location_id].sort_values(by=['date']).reset_index(drop=True)"
   ]
  },
  {
   "cell_type": "markdown",
   "metadata": {},
   "source": [
    "### train model"
   ]
  },
  {
   "cell_type": "code",
   "execution_count": 19,
   "metadata": {},
   "outputs": [],
   "source": [
    "def train_arima_model(count_series, order):\n",
    "    model = ARIMA(count_series, order=order)\n",
    "    fitted_model = model.fit()\n",
    "    return fitted_model\n",
    "\n",
    "\n",
    "models = {}\n",
    "\n",
    "for location_id, location_df in train_location_dfs.items():\n",
    "    ## smooth label.\n",
    "    count_series = location_df['count'] + ADDED_PASSENGER_COUNT\n",
    "    models[location_id] = train_arima_model(count_series, order=(3, 1, 3))"
   ]
  },
  {
   "cell_type": "markdown",
   "metadata": {},
   "source": [
    "### predict test data"
   ]
  },
  {
   "cell_type": "code",
   "execution_count": 20,
   "metadata": {},
   "outputs": [],
   "source": [
    "def predict_passenger_count(location_id, model=None):\n",
    "    train_df = train_location_dfs[location_id]\n",
    "    test_df = test_location_dfs[location_id]\n",
    "    model = model or models[location_id]\n",
    "    start_index = len(train_df)\n",
    "    end_index = len(train_df) + len(test_df)\n",
    "    \n",
    "    return model.predict(start=start_index + 1, end=end_index, typ='levels')\n",
    "    "
   ]
  },
  {
   "cell_type": "code",
   "execution_count": 21,
   "metadata": {},
   "outputs": [],
   "source": [
    "for location_id in location_ids:\n",
    "    test_df = test_location_dfs[location_id]\n",
    "    pred = predict_passenger_count(location_id) - ADDED_PASSENGER_COUNT\n",
    "    pred = pred.apply(lambda x: max(0, int(x)))\n",
    "    test_df['pred'] = pred.values"
   ]
  },
  {
   "cell_type": "markdown",
   "metadata": {},
   "source": [
    "### concat test dataframes"
   ]
  },
  {
   "cell_type": "code",
   "execution_count": 22,
   "metadata": {},
   "outputs": [
    {
     "name": "stdout",
     "output_type": "stream",
     "text": [
      "(7860, 4)\n"
     ]
    },
    {
     "data": {
      "text/html": [
       "<div>\n",
       "<style scoped>\n",
       "    .dataframe tbody tr th:only-of-type {\n",
       "        vertical-align: middle;\n",
       "    }\n",
       "\n",
       "    .dataframe tbody tr th {\n",
       "        vertical-align: top;\n",
       "    }\n",
       "\n",
       "    .dataframe thead th {\n",
       "        text-align: right;\n",
       "    }\n",
       "</style>\n",
       "<table border=\"1\" class=\"dataframe\">\n",
       "  <thead>\n",
       "    <tr style=\"text-align: right;\">\n",
       "      <th></th>\n",
       "      <th>date</th>\n",
       "      <th>PULocationID</th>\n",
       "      <th>count</th>\n",
       "      <th>pred</th>\n",
       "    </tr>\n",
       "  </thead>\n",
       "  <tbody>\n",
       "    <tr>\n",
       "      <th>0</th>\n",
       "      <td>2023-04-01</td>\n",
       "      <td>70</td>\n",
       "      <td>373.0</td>\n",
       "      <td>560</td>\n",
       "    </tr>\n",
       "    <tr>\n",
       "      <th>1</th>\n",
       "      <td>2023-04-02</td>\n",
       "      <td>70</td>\n",
       "      <td>528.0</td>\n",
       "      <td>571</td>\n",
       "    </tr>\n",
       "    <tr>\n",
       "      <th>2</th>\n",
       "      <td>2023-04-03</td>\n",
       "      <td>70</td>\n",
       "      <td>568.0</td>\n",
       "      <td>478</td>\n",
       "    </tr>\n",
       "    <tr>\n",
       "      <th>3</th>\n",
       "      <td>2023-04-04</td>\n",
       "      <td>70</td>\n",
       "      <td>467.0</td>\n",
       "      <td>515</td>\n",
       "    </tr>\n",
       "    <tr>\n",
       "      <th>4</th>\n",
       "      <td>2023-04-05</td>\n",
       "      <td>70</td>\n",
       "      <td>421.0</td>\n",
       "      <td>580</td>\n",
       "    </tr>\n",
       "  </tbody>\n",
       "</table>\n",
       "</div>"
      ],
      "text/plain": [
       "         date  PULocationID  count  pred\n",
       "0  2023-04-01            70  373.0   560\n",
       "1  2023-04-02            70  528.0   571\n",
       "2  2023-04-03            70  568.0   478\n",
       "3  2023-04-04            70  467.0   515\n",
       "4  2023-04-05            70  421.0   580"
      ]
     },
     "execution_count": 22,
     "metadata": {},
     "output_type": "execute_result"
    }
   ],
   "source": [
    "pred_df = pd.concat(test_location_dfs.values())\n",
    "print(pred_df.shape)\n",
    "pred_df.head()"
   ]
  },
  {
   "cell_type": "markdown",
   "metadata": {},
   "source": [
    "### evaluate loss"
   ]
  },
  {
   "cell_type": "code",
   "execution_count": 24,
   "metadata": {},
   "outputs": [],
   "source": [
    "from sklearn.metrics import mean_absolute_error, mean_absolute_percentage_error, mean_squared_error"
   ]
  },
  {
   "cell_type": "code",
   "execution_count": 40,
   "metadata": {},
   "outputs": [
    {
     "name": "stdout",
     "output_type": "stream",
     "text": [
      "mape = 365559359066460.44\n",
      "mae = 58.74325699745547\n",
      "rmse = 193.57363564623876\n"
     ]
    }
   ],
   "source": [
    "def evaluate_model(actual, pred):\n",
    "    mae = mean_absolute_error(actual, pred)\n",
    "    mape = mean_absolute_percentage_error(actual, pred)\n",
    "    mse = mean_squared_error(actual, pred)\n",
    "\n",
    "    print(f'mape = {mape}')\n",
    "    print(f'mae = {mae}')\n",
    "    print(f'rmse = {np.sqrt(mse)}')\n",
    "\n",
    "evaluate_model(pred_df['count'], pred_df['pred'])"
   ]
  },
  {
   "cell_type": "markdown",
   "metadata": {},
   "source": [
    "### testing arima model with some order parameters"
   ]
  },
  {
   "cell_type": "code",
   "execution_count": 26,
   "metadata": {},
   "outputs": [],
   "source": [
    "def evaluate_custom_order_arima(arima_order_parameter):\n",
    "    for location_id in location_ids:\n",
    "        train_df = train_location_dfs[location_id]\n",
    "        test_df = test_location_dfs[location_id]\n",
    "        \n",
    "        series = train_df['count'] + ADDED_PASSENGER_COUNT\n",
    "        model = train_arima_model(series, arima_order_parameter)\n",
    "        \n",
    "        pred = predict_passenger_count(location_id, model) - ADDED_PASSENGER_COUNT\n",
    "        pred = pred.apply(lambda x: max(0, int(x)))\n",
    "        test_df['pred'] = pred.values\n",
    "    pred_df = pd.concat(test_location_dfs.values())\n",
    "    \n",
    "    mae = mean_absolute_error(pred_df['count'], pred_df['pred'])\n",
    "    mape = mean_absolute_percentage_error(pred_df['count'], pred_df['pred'])\n",
    "    rmse = np.sqrt(mean_squared_error(pred_df['count'], pred_df['pred']))\n",
    "    \n",
    "    return {'mae': mae, 'mape': mape, 'rmse': rmse}  "
   ]
  },
  {
   "cell_type": "code",
   "execution_count": 27,
   "metadata": {},
   "outputs": [
    {
     "name": "stdout",
     "output_type": "stream",
     "text": [
      "order: (4, 2, 1)\n",
      "mae = 70.7320610687023\n",
      "mape = 582717661709389.0\n",
      "rmse = 236.2431398360445\n",
      "\n",
      " ----- \n",
      "\n",
      "order: (5, 1, 2)\n",
      "mae = 59.35343511450382\n",
      "mape = 362121496755490.5\n",
      "rmse = 198.3498656697199\n",
      "\n",
      " ----- \n",
      "\n",
      "order: (4, 2, 1)\n",
      "mae = 70.7320610687023\n",
      "mape = 582717661709389.0\n",
      "rmse = 236.2431398360445\n",
      "\n",
      " ----- \n",
      "\n",
      "order: (1, 2, 2)\n",
      "mae = 3420.431679389313\n",
      "mape = 560371556688086.06\n",
      "rmse = 55063.781401922926\n",
      "\n",
      " ----- \n",
      "\n",
      "order: (6, 1, 4)\n",
      "mae = 63.27595419847328\n",
      "mape = 355818749185379.2\n",
      "rmse = 212.80997777646934\n",
      "\n",
      " ----- \n",
      "\n"
     ]
    }
   ],
   "source": [
    "for order in TESTING_ARIMA_ORDERS:\n",
    "    results = evaluate_custom_order_arima(order)\n",
    "    \n",
    "    print('order:', order)\n",
    "    print('\\n'.join([f'{key} = {value}' for key, value in results.items()]))\n",
    "    print('\\n ----- \\n')"
   ]
  },
  {
   "cell_type": "markdown",
   "metadata": {},
   "source": [
    "### recreate best model in expriments"
   ]
  },
  {
   "cell_type": "code",
   "execution_count": 36,
   "metadata": {},
   "outputs": [],
   "source": [
    "models = {}\n",
    "\n",
    "for location_id, location_df in train_location_dfs.items():\n",
    "    ## smooth label.\n",
    "    count_series = location_df['count'] + ADDED_PASSENGER_COUNT\n",
    "    models[location_id] = train_arima_model(count_series, order=(3, 1, 3))"
   ]
  },
  {
   "cell_type": "markdown",
   "metadata": {},
   "source": [
    "### add fitted values"
   ]
  },
  {
   "cell_type": "code",
   "execution_count": 37,
   "metadata": {},
   "outputs": [
    {
     "name": "stdout",
     "output_type": "stream",
     "text": [
      "(31178, 4)\n"
     ]
    },
    {
     "data": {
      "text/html": [
       "<div>\n",
       "<style scoped>\n",
       "    .dataframe tbody tr th:only-of-type {\n",
       "        vertical-align: middle;\n",
       "    }\n",
       "\n",
       "    .dataframe tbody tr th {\n",
       "        vertical-align: top;\n",
       "    }\n",
       "\n",
       "    .dataframe thead th {\n",
       "        text-align: right;\n",
       "    }\n",
       "</style>\n",
       "<table border=\"1\" class=\"dataframe\">\n",
       "  <thead>\n",
       "    <tr style=\"text-align: right;\">\n",
       "      <th></th>\n",
       "      <th>date</th>\n",
       "      <th>PULocationID</th>\n",
       "      <th>count</th>\n",
       "      <th>pred</th>\n",
       "    </tr>\n",
       "  </thead>\n",
       "  <tbody>\n",
       "    <tr>\n",
       "      <th>0</th>\n",
       "      <td>2023-01-02</td>\n",
       "      <td>70</td>\n",
       "      <td>503.0</td>\n",
       "      <td>0</td>\n",
       "    </tr>\n",
       "    <tr>\n",
       "      <th>1</th>\n",
       "      <td>2023-01-03</td>\n",
       "      <td>70</td>\n",
       "      <td>530.0</td>\n",
       "      <td>500</td>\n",
       "    </tr>\n",
       "    <tr>\n",
       "      <th>2</th>\n",
       "      <td>2023-01-04</td>\n",
       "      <td>70</td>\n",
       "      <td>485.0</td>\n",
       "      <td>518</td>\n",
       "    </tr>\n",
       "    <tr>\n",
       "      <th>3</th>\n",
       "      <td>2023-01-05</td>\n",
       "      <td>70</td>\n",
       "      <td>417.0</td>\n",
       "      <td>488</td>\n",
       "    </tr>\n",
       "    <tr>\n",
       "      <th>4</th>\n",
       "      <td>2023-01-06</td>\n",
       "      <td>70</td>\n",
       "      <td>405.0</td>\n",
       "      <td>489</td>\n",
       "    </tr>\n",
       "  </tbody>\n",
       "</table>\n",
       "</div>"
      ],
      "text/plain": [
       "         date  PULocationID  count  pred\n",
       "0  2023-01-02            70  503.0     0\n",
       "1  2023-01-03            70  530.0   500\n",
       "2  2023-01-04            70  485.0   518\n",
       "3  2023-01-05            70  417.0   488\n",
       "4  2023-01-06            70  405.0   489"
      ]
     },
     "execution_count": 37,
     "metadata": {},
     "output_type": "execute_result"
    }
   ],
   "source": [
    "dfs = []\n",
    "\n",
    "for location_id in location_ids:\n",
    "    train_df = train_location_dfs[location_id]\n",
    "    model = models[location_id]\n",
    "    train_df['pred'] = model.fittedvalues.values - ADDED_PASSENGER_COUNT\n",
    "    test_df = test_location_dfs[location_id]\n",
    "    pred = predict_passenger_count(location_id) - ADDED_PASSENGER_COUNT\n",
    "    test_df['pred'] = pred.values\n",
    "    dfs.append(train_df)\n",
    "    dfs.append(test_df)\n",
    "\n",
    "result_df = pd.concat(dfs)\n",
    "result_df['pred'] = result_df['pred'].apply(lambda x: max(0, int(x)))\n",
    "\n",
    "print(result_df.shape)\n",
    "result_df.head()\n",
    "    "
   ]
  },
  {
   "cell_type": "markdown",
   "metadata": {},
   "source": [
    "### evaluate on high demand locations"
   ]
  },
  {
   "cell_type": "code",
   "execution_count": 38,
   "metadata": {},
   "outputs": [
    {
     "name": "stdout",
     "output_type": "stream",
     "text": [
      "(4403, 4)\n"
     ]
    },
    {
     "data": {
      "text/html": [
       "<div>\n",
       "<style scoped>\n",
       "    .dataframe tbody tr th:only-of-type {\n",
       "        vertical-align: middle;\n",
       "    }\n",
       "\n",
       "    .dataframe tbody tr th {\n",
       "        vertical-align: top;\n",
       "    }\n",
       "\n",
       "    .dataframe thead th {\n",
       "        text-align: right;\n",
       "    }\n",
       "</style>\n",
       "<table border=\"1\" class=\"dataframe\">\n",
       "  <thead>\n",
       "    <tr style=\"text-align: right;\">\n",
       "      <th></th>\n",
       "      <th>date</th>\n",
       "      <th>PULocationID</th>\n",
       "      <th>count</th>\n",
       "      <th>pred</th>\n",
       "    </tr>\n",
       "  </thead>\n",
       "  <tbody>\n",
       "    <tr>\n",
       "      <th>0</th>\n",
       "      <td>2023-01-02</td>\n",
       "      <td>132</td>\n",
       "      <td>6419.0</td>\n",
       "      <td>0</td>\n",
       "    </tr>\n",
       "    <tr>\n",
       "      <th>1</th>\n",
       "      <td>2023-01-03</td>\n",
       "      <td>132</td>\n",
       "      <td>6784.0</td>\n",
       "      <td>6425</td>\n",
       "    </tr>\n",
       "    <tr>\n",
       "      <th>2</th>\n",
       "      <td>2023-01-04</td>\n",
       "      <td>132</td>\n",
       "      <td>6006.0</td>\n",
       "      <td>5862</td>\n",
       "    </tr>\n",
       "    <tr>\n",
       "      <th>3</th>\n",
       "      <td>2023-01-05</td>\n",
       "      <td>132</td>\n",
       "      <td>5617.0</td>\n",
       "      <td>5605</td>\n",
       "    </tr>\n",
       "    <tr>\n",
       "      <th>4</th>\n",
       "      <td>2023-01-06</td>\n",
       "      <td>132</td>\n",
       "      <td>4877.0</td>\n",
       "      <td>5495</td>\n",
       "    </tr>\n",
       "  </tbody>\n",
       "</table>\n",
       "</div>"
      ],
      "text/plain": [
       "         date  PULocationID   count  pred\n",
       "0  2023-01-02           132  6419.0     0\n",
       "1  2023-01-03           132  6784.0  6425\n",
       "2  2023-01-04           132  6006.0  5862\n",
       "3  2023-01-05           132  5617.0  5605\n",
       "4  2023-01-06           132  4877.0  5495"
      ]
     },
     "execution_count": 38,
     "metadata": {},
     "output_type": "execute_result"
    }
   ],
   "source": [
    "mean_counts = rides_df.groupby('PULocationID')['count'].mean()\n",
    "true_items_location_ids = mean_counts[mean_counts > HIGH_DEMAND_THRESHOLD].index.tolist()\n",
    "high_demand_df = result_df[result_df['PULocationID'].isin(true_items_location_ids)]\n",
    "print(high_demand_df.shape)\n",
    "high_demand_df.head()"
   ]
  },
  {
   "cell_type": "code",
   "execution_count": 41,
   "metadata": {},
   "outputs": [
    {
     "name": "stdout",
     "output_type": "stream",
     "text": [
      "mape = 0.11701232984044696\n",
      "mae = 272.27326914259515\n",
      "rmse = 397.89935688793145\n"
     ]
    }
   ],
   "source": [
    "high_demand_df = high_demand_df[high_demand_df['pred'] > 0]\n",
    "\n",
    "evaluate_model(high_demand_df['count'], high_demand_df['pred'])"
   ]
  },
  {
   "cell_type": "markdown",
   "metadata": {},
   "source": [
    "### save results"
   ]
  },
  {
   "cell_type": "code",
   "execution_count": 42,
   "metadata": {},
   "outputs": [],
   "source": [
    "result_df.to_excel(OUTPUT_PATH)"
   ]
  }
 ],
 "metadata": {
  "kernelspec": {
   "display_name": "Python 3",
   "language": "python",
   "name": "python3"
  },
  "language_info": {
   "codemirror_mode": {
    "name": "ipython",
    "version": 3
   },
   "file_extension": ".py",
   "mimetype": "text/x-python",
   "name": "python",
   "nbconvert_exporter": "python",
   "pygments_lexer": "ipython3",
   "version": "3.8.2"
  }
 },
 "nbformat": 4,
 "nbformat_minor": 2
}
